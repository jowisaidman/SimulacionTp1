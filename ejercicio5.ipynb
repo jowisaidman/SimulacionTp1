{
 "cells": [
  {
   "cell_type": "code",
   "execution_count": 161,
   "metadata": {},
   "outputs": [],
   "source": [
    "import matplotlib.pyplot as plt\n",
    "import numpy as np\n",
    "from scipy.stats import chi2, chisquare"
   ]
  },
  {
   "cell_type": "code",
   "execution_count": 134,
   "metadata": {},
   "outputs": [],
   "source": [
    "SEMILLA = ((99730+100866+96786+93762)//4)\n",
    "\n",
    "def GCL_con_rango(n,Xo,incremento, modulo, multiplicador):\n",
    "    \"\"\"Recibe como parametro cinco enteros, numero de iteraciones n, semilla Xo,\n",
    "    , incremnto, modulo y multiplicador. \n",
    "    Los numeros random generados estan entre 0 y 1.\n",
    "    Imprime el valor de cada iteracion\"\"\"\n",
    "    resultados = [Xo]\n",
    "    for i in range(n):\n",
    "        resultados.append(((resultados[i]*multiplicador + incremento) % modulo))  \n",
    "    resultados.pop(0)\n",
    "    for i in range(n):\n",
    "        resultados[i] = resultados[i]/modulo   \n",
    "    return resultados"
   ]
  },
  {
   "cell_type": "code",
   "execution_count": 135,
   "metadata": {},
   "outputs": [],
   "source": [
    "def obtener_tam_gap_test(muestra):\n",
    "    '''Dada una muestra de numeros aleatorios cuenta cuantos nuemeros seguidos\n",
    "    pertenecen al intervalo [0.2;0.5] y devuelve un arreglo'''\n",
    "    repeticiones = 0\n",
    "    frequencias = []\n",
    "    for n in range(len(muestra)):\n",
    "        if (0.2 <= muestra[n] <= 0.5 and repeticiones>=0):\n",
    "            frequencias.append(repeticiones)\n",
    "            repeticiones = 0\n",
    "            continue\n",
    "        repeticiones+=1\n",
    "    if (repeticiones>0):\n",
    "        frequencias.append(repeticiones)\n",
    "    return frequencias"
   ]
  },
  {
   "cell_type": "code",
   "execution_count": 136,
   "metadata": {},
   "outputs": [],
   "source": [
    "def obtener_frec_tam_gap_observadas(freq_gap_test):\n",
    "    '''Dada una lista cuenta la cantidad de elementos repetidos en un diccionario'''\n",
    "    frequencias = {i:freq_gap_test.count(i) for i in freq_gap_test}\n",
    "    return frequencias"
   ]
  },
  {
   "cell_type": "code",
   "execution_count": 137,
   "metadata": {},
   "outputs": [],
   "source": [
    "muestra = GCL_con_rango(100000,SEMILLA,1664525, 2**32, 1013904223)"
   ]
  },
  {
   "cell_type": "code",
   "execution_count": 138,
   "metadata": {},
   "outputs": [],
   "source": [
    "#Defino geometrica para obtener las probabilidades esperadas\n",
    "def prob_geom(x):\n",
    "    p = 0.3\n",
    "    q = ((1-p)**(x-1))*p\n",
    "    return q"
   ]
  },
  {
   "cell_type": "code",
   "execution_count": 152,
   "metadata": {},
   "outputs": [],
   "source": [
    "#Busco el estadistico con la formula vista en la practica\n",
    "def chisquare_test_geom(frecuencias_obs): \n",
    "    estadistico = 0\n",
    "    n = sum(list(frecuencias_obs.values()))\n",
    "    for tam in frecuencias_obs:\n",
    "        p = prob_geom(tam)\n",
    "        estadistico += ((frecuencias_obs.get(tam)-n*p)**2) / (n*p)\n",
    "    return estadistico"
   ]
  },
  {
   "cell_type": "code",
   "execution_count": 140,
   "metadata": {},
   "outputs": [
    {
     "name": "stdout",
     "output_type": "stream",
     "text": [
      "[2, 3, 0, 1, 4]\n",
      "{0: 8963, 1: 6444, 2: 4384, 3: 3065, 4: 2101, 5: 1515, 6: 1061, 7: 721, 8: 526, 9: 356, 10: 280, 11: 180, 12: 136, 13: 91, 14: 57, 15: 39, 16: 26, 17: 29, 18: 12, 19: 13, 20: 7, 21: 2, 22: 2, 23: 1, 24: 1, 25: 1, 27: 2, 32: 1, 38: 1}\n"
     ]
    }
   ],
   "source": [
    "#Cuentos los gaps y la cantidad de veces que halla aparecido un gap de tamaño n.\n",
    "tam_gap_test = obtener_tam_gap_test(muestra)\n",
    "print(tam_gap_test[0:5])\n",
    "\n",
    "frequencias_tam_gap_observadas = obtener_frec_tam_gap_observadas(frequencias_gap_test)\n",
    "print(frequencias_tam_gap_observadas)"
   ]
  },
  {
   "cell_type": "code",
   "execution_count": 141,
   "metadata": {},
   "outputs": [
    {
     "name": "stdout",
     "output_type": "stream",
     "text": [
      "[( 0, 8963) ( 1, 6444) ( 2, 4384) ( 3, 3065) ( 4, 2101) ( 5, 1515)\n",
      " ( 6, 1061) ( 7,  721) ( 8,  526) ( 9,  356) (10,  280) (11,  180)\n",
      " (12,  136) (13,   91) (14,   57) (15,   39) (16,   26) (17,   29)\n",
      " (18,   12) (19,   13) (20,    7) (21,    2) (22,    2) (23,    1)\n",
      " (24,    1) (25,    1) (27,    2) (32,    1) (38,    1)]\n",
      "array([( 0, 8963), ( 1, 6444), ( 2, 4384), ( 3, 3065), ( 4, 2101),\n",
      "       ( 5, 1515), ( 6, 1061), ( 7,  721), ( 8,  526), ( 9,  356),\n",
      "       (10,  280), (11,  180), (12,  136), (13,   91), (14,   57),\n",
      "       (15,   39), (16,   26), (17,   29), (18,   12), (19,   13),\n",
      "       (20,    7), (21,    2), (22,    2), (23,    1), (24,    1),\n",
      "       (25,    1), (27,    2), (32,    1), (38,    1)],\n",
      "      dtype=[('tam_gap', '<i8'), ('cant_repeticiones', '<i8')])\n"
     ]
    }
   ],
   "source": [
    "#Paso diccionario a arreglo de numpy\n",
    "names = ['tam_gap','cant_repeticiones']\n",
    "formats = ['i8','i8']\n",
    "dtype = dict(names = names, formats=formats)\n",
    "frequencias = np.array(list(frequencias_tam_gap_observadas.items()), dtype=dtype)\n",
    "print(frequencias)\n",
    "print(repr(frequencias))"
   ]
  },
  {
   "cell_type": "markdown",
   "metadata": {},
   "source": [
    "# Test estadistico\n",
    "Aplicar un gap test al generador congruencial lineal implementado en el ejercicio 1 utilizando el intervalo [0,2 - 0,5].\n",
    "Analizar el resultado obtenido, e indicar si la distribución de probabilidades pasa o no el test.\n",
    "Considerar un nivel de significación del 1%."
   ]
  },
  {
   "cell_type": "code",
   "execution_count": 153,
   "metadata": {},
   "outputs": [
    {
     "data": {
      "text/plain": [
       "3937.685890226105"
      ]
     },
     "execution_count": 153,
     "metadata": {},
     "output_type": "execute_result"
    }
   ],
   "source": [
    "# # Cantidad observaciones \n",
    "# n = sum(list(frequencias_tam_gap_observadas.values()))\n",
    "# print(\"n = \" + str(n))\n",
    "\n",
    "#Busco el estadistico\n",
    "estadistico = chisquare_test_geom(frequencias_tam_gap_observadas)\n",
    "estadistico"
   ]
  },
  {
   "cell_type": "code",
   "execution_count": 167,
   "metadata": {},
   "outputs": [
    {
     "name": "stdout",
     "output_type": "stream",
     "text": [
      "[8963, 6444, 4384, 3065, 2101, 1515, 1061, 721, 526, 356, 280, 180, 136, 91, 57, 39, 26, 29, 12, 13, 7, 2, 2, 1, 1, 1, 2, 1, 1]\n",
      "[12864.0, 9005.0, 6304.0, 4412.0, 3089.0, 2162.0, 1513.0, 1059.0, 742.0, 519.0, 363.0, 254.0, 178.0, 125.0, 87.0, 61.0, 43.0, 30.0, 21.0, 15.0, 10.0, 7.0, 5.0, 4.0, 2.0, 2.0, 1.0, 1.0, 1.0]\n"
     ]
    }
   ],
   "source": [
    "frecuencias_observadas = list(frequencias_tam_gap_observadas.values())\n",
    "print(frecuencias_observadas)\n",
    "\n",
    "frecuencias_esperadas = []\n",
    "for i in range(len(frecuencias_observadas)):\n",
    "    frecuencias_esperadas.append(round(prob_geom(i) * sum(frecuencias_observadas), 0))\n",
    "\n",
    "print(frecuencias_esperadas)"
   ]
  },
  {
   "cell_type": "code",
   "execution_count": 168,
   "metadata": {},
   "outputs": [
    {
     "data": {
      "text/plain": [
       "Power_divergenceResult(statistic=3873.318092577635, pvalue=0.0)"
      ]
     },
     "execution_count": 168,
     "metadata": {},
     "output_type": "execute_result"
    }
   ],
   "source": [
    "chisquare(f_obs = frecuencias_observadas, f_exp = frecuencias_esperadas)\n"
   ]
  },
  {
   "cell_type": "code",
   "execution_count": null,
   "metadata": {},
   "outputs": [],
   "source": [
    "ticksx = list(range(41))\n",
    "plt.rcParams[\"figure.figsize\"] = (10,10)\n",
    "bins = np.arange(-0.5,40.5,1)\n",
    "plt.hist(frequencias_gap_test, edgecolor='k', bins=bins)\n",
    "plt.xlim(left=-1)\n",
    "plt.xticks(ticksx, color=\"green\")\n",
    "plt.title('Frecuencias del gap-test\\n', fontsize=18).set_color(\"green\")\n",
    "plt.xlabel('Cantidad de veces seguidas en las que no se genero un numero entre 0.2 y 0.5', fontsize=15).set_color(\"green\")\n",
    "plt.ylabel('Frecuencia', fontsize=15).set_color(\"green\")\n",
    "plt.grid();"
   ]
  },
  {
   "cell_type": "code",
   "execution_count": null,
   "metadata": {},
   "outputs": [],
   "source": []
  }
 ],
 "metadata": {
  "kernelspec": {
   "display_name": "Python 3",
   "language": "python",
   "name": "python3"
  },
  "language_info": {
   "codemirror_mode": {
    "name": "ipython",
    "version": 3
   },
   "file_extension": ".py",
   "mimetype": "text/x-python",
   "name": "python",
   "nbconvert_exporter": "python",
   "pygments_lexer": "ipython3",
   "version": "3.5.2"
  }
 },
 "nbformat": 4,
 "nbformat_minor": 2
}
