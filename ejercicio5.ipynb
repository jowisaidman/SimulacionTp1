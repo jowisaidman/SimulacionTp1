{
 "cells": [
  {
   "cell_type": "code",
   "execution_count": 1,
   "metadata": {},
   "outputs": [],
   "source": [
    "import matplotlib.pyplot as plt\n",
    "import numpy as np\n",
    "from scipy.stats import chi2"
   ]
  },
  {
   "cell_type": "code",
   "execution_count": 2,
   "metadata": {},
   "outputs": [],
   "source": [
    "SEMILLA = ((99730+100866+96786+93762)//4)\n",
    "\n",
    "def GCL_con_rango(n,Xo,incremento, modulo, multiplicador):\n",
    "    \"\"\"Recibe como parametro cinco enteros, numero de iteraciones n, semilla Xo,\n",
    "    , incremnto, modulo y multiplicador. \n",
    "    Los numeros random generados estan entre 0 y 1.\n",
    "    Imprime el valor de cada iteracion\"\"\"\n",
    "    resultados = [Xo]\n",
    "    for i in range(n):\n",
    "        resultados.append(((resultados[i]*multiplicador + incremento) % modulo))  \n",
    "    resultados.pop(0)\n",
    "    for i in range(n):\n",
    "        resultados[i] = resultados[i]/modulo   \n",
    "    return resultados"
   ]
  },
  {
   "cell_type": "code",
   "execution_count": 3,
   "metadata": {},
   "outputs": [],
   "source": [
    "def obtener_frequencias_gap_test(muestra):\n",
    "    '''Dada una muestra de numeros aleatorios cuenta cuantos nuemeros seguidos\n",
    "    pertenecen al intervalo [0.2;0.5] y devuelve un arreglo'''\n",
    "    repeticiones = 0\n",
    "    frequencias = []\n",
    "    for n in range(len(muestra)):\n",
    "        if (0.2 <= muestra[n] <= 0.5 and repeticiones>0):\n",
    "            frequencias.append(repeticiones)\n",
    "            repeticiones = 0\n",
    "            continue\n",
    "        repeticiones+=1\n",
    "    if (repeticiones>0):\n",
    "        frequencias.append(repeticiones)\n",
    "    return frequencias"
   ]
  },
  {
   "cell_type": "code",
   "execution_count": 4,
   "metadata": {},
   "outputs": [],
   "source": [
    "def obtener_frequencias_observadas(freq_gap_test):\n",
    "    '''Dada una lista cuenta la cantidad de elementos repetidos en un diccionario'''\n",
    "    frequencias = {i:freq_gap_test.count(i) for i in freq_gap_test}\n",
    "    return frequencias"
   ]
  },
  {
   "cell_type": "code",
   "execution_count": 5,
   "metadata": {},
   "outputs": [],
   "source": [
    "muestra = GCL_con_rango(100000,SEMILLA,1664525, 2**32, 1013904223)"
   ]
  },
  {
   "cell_type": "code",
   "execution_count": 6,
   "metadata": {},
   "outputs": [],
   "source": [
    "#Cuentos los gaps y la cantidad de veces que halla aparecido un gap de tamaño n.\n",
    "frequencias_gap_test = obtener_frequencias_gap_test(muestra)\n",
    "frequencias_observadas = obtener_frequencias_observadas(frequencias_gap_test)\n",
    "##frequencias_observadas"
   ]
  },
  {
   "cell_type": "code",
   "execution_count": 23,
   "metadata": {},
   "outputs": [],
   "source": [
    "#Defino geometrica para obtener las probabilidades esperadas\n",
    "def prob_geom(x):\n",
    "    p = 0.3\n",
    "    q = ((1-p)**(x-1))*p\n",
    "    return q"
   ]
  },
  {
   "cell_type": "code",
   "execution_count": 19,
   "metadata": {},
   "outputs": [],
   "source": [
    "#Busco el estadistico con la formula vista en la practica\n",
    "def chisquare_test_geom(frequencias_obs): \n",
    "    estadistico = 0\n",
    "    n = sum(frequencias_obs)\n",
    "    for i in range(len(frequencias_obs)):\n",
    "        p = prob_geom(frequencias_obs[i])\n",
    "        estadistico += ((frequencias_obs[i]-n*p)**2) / (n*p)\n",
    "    return estadistico"
   ]
  },
  {
   "cell_type": "code",
   "execution_count": 20,
   "metadata": {},
   "outputs": [
    {
     "name": "stdout",
     "output_type": "stream",
     "text": [
      "array([( 2, 4924), ( 3, 3319), ( 4, 2360), ( 1, 6966), (16,   36),\n",
      "       ( 5, 1629), (11,  202), ( 8,  576), ( 7,  783), ( 9,  403),\n",
      "       (13,   91), ( 6, 1174), (10,  302), (15,   37), (14,   73),\n",
      "       (12,  144), (17,   27), (20,    9), (18,   15), (21,    3),\n",
      "       (19,   14), (25,    1), (27,    2), (24,    1), (22,    2),\n",
      "       (39,    1), (33,    1), (26,    1)],\n",
      "      dtype=[('tam_gap', '<i8'), ('cant_repeticiones', '<i8')])\n"
     ]
    }
   ],
   "source": [
    "#Paso diccionario a arreglo de numpy\n",
    "names = ['tam_gap','cant_repeticiones']\n",
    "formats = ['i8','i8']\n",
    "dtype = dict(names = names, formats=formats)\n",
    "frequencias = np.array(list(frequencias_observadas.items()), dtype=dtype)\n",
    "\n",
    "print(repr(frequencias))"
   ]
  },
  {
   "cell_type": "code",
   "execution_count": 24,
   "metadata": {},
   "outputs": [
    {
     "data": {
      "text/plain": [
       "314208860.3563761"
      ]
     },
     "execution_count": 24,
     "metadata": {},
     "output_type": "execute_result"
    }
   ],
   "source": [
    "#Busco el estadistico\n",
    "estadistico = chisquare_test_geom(frequencias_gap_test)\n",
    "estadistico"
   ]
  },
  {
   "cell_type": "code",
   "execution_count": 59,
   "metadata": {},
   "outputs": [
    {
     "data": {
      "image/png": "[encoded data removed]",
      "text/plain": [
       "<Figure size 720x720 with 1 Axes>"
      ]
     },
     "metadata": {
      "needs_background": "light"
     },
     "output_type": "display_data"
    }
   ],
   "source": [
    "ticksx = list(range(41))\n",
    "plt.rcParams[\"figure.figsize\"] = (10,10)\n",
    "plt.hist(frequencias_gap_test, edgecolor='k', bins=41)\n",
    "plt.xlim(left=0)\n",
    "plt.xticks(ticksx, color=\"green\")\n",
    "plt.title('Frecuencias del gap-test\\n', fontsize=18).set_color(\"green\")\n",
    "plt.xlabel('Cantidad de veces seguidas en las que no se genero un numero entre 0.2 y 0.5', fontsize=15).set_color(\"green\")\n",
    "plt.ylabel('Frecuencia', fontsize=15).set_color(\"green\")\n",
    "plt.grid();"
   ]
  },
  {
   "cell_type": "code",
   "execution_count": null,
   "metadata": {},
   "outputs": [],
   "source": []
  }
 ],
 "metadata": {
  "kernelspec": {
   "display_name": "Python 3",
   "language": "python",
   "name": "python3"
  },
  "language_info": {
   "codemirror_mode": {
    "name": "ipython",
    "version": 3
   },
   "file_extension": ".py",
   "mimetype": "text/x-python",
   "name": "python",
   "nbconvert_exporter": "python",
   "pygments_lexer": "ipython3",
   "version": "3.6.8"
  }
 },
 "nbformat": 4,
 "nbformat_minor": 2
}
