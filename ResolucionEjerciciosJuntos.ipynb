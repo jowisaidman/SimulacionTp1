{
 "cells": [
  {
   "cell_type": "markdown",
   "metadata": {},
   "source": [
    "# Ejercicio 1"
   ]
  },
  {
   "cell_type": "markdown",
   "metadata": {},
   "source": [
    "## Item A\n",
    "\n",
    "Vamos a crear un algoritmo que sea un Generador Congruencial Lineal (GCL). El codigo utilizado es el siguiente"
   ]
  },
  {
   "cell_type": "code",
   "execution_count": 1,
   "metadata": {},
   "outputs": [],
   "source": [
    "import matplotlib.pyplot as plt\n",
    "import numpy as np\n",
    "SEMILLA = (99730+100866+96786+93762)//4\n",
    "\n",
    "def GCL(n,Xo,incremento, modulo, multiplicador):\n",
    "    \"\"\"Recibe como parametro cinco enteros, numero de iteraciones n, semilla Xo,\n",
    "    , incremnto, modulo y multiplicador. Imprime el valor de cada iteracion\"\"\"\n",
    "    resultados = [Xo]\n",
    "    for i in range(n):\n",
    "        resultados.append((resultados[i]*multiplicador + incremento) % modulo)   \n",
    "    resultados.pop(0)\n",
    "    return resultados"
   ]
  },
  {
   "cell_type": "markdown",
   "metadata": {},
   "source": [
    "Importamos la libreria necesaria y utilizamos la semilla que es el promedio de nuestro padrones. El resultado de los 10 primeros numeros son:"
   ]
  },
  {
   "cell_type": "code",
   "execution_count": 2,
   "metadata": {},
   "outputs": [
    {
     "name": "stdout",
     "output_type": "stream",
     "text": [
      "El numero 1 es: 614953939\n",
      "El numero 2 es: 3319310938\n",
      "El numero 3 es: 1608518515\n",
      "El numero 4 es: 512085690\n",
      "El numero 5 es: 3269962515\n",
      "El numero 6 es: 832498458\n",
      "El numero 7 es: 1617449651\n",
      "El numero 8 es: 1245314938\n",
      "El numero 9 es: 4153147987\n",
      "El numero 10 es: 921504730\n"
     ]
    }
   ],
   "source": [
    "resultado = GCL(10,SEMILLA,1664525, 2**32, 1013904223)\n",
    "for n in range(10):\n",
    "    print('El numero '+str(n+1)+' es: '+ str(resultado[n]))"
   ]
  },
  {
   "cell_type": "markdown",
   "metadata": {},
   "source": [
    "## Item B\n",
    "\n",
    "El algoritmo utilizado es similar al anterior, la diferencia es que vamos a utilizar el modulo del algoritmo para obtener un rango de numeros generados al azar acotado entre 0 y 1"
   ]
  },
  {
   "cell_type": "code",
   "execution_count": 3,
   "metadata": {},
   "outputs": [],
   "source": [
    "def GCL_con_rango(n,Xo,incremento, modulo, multiplicador):\n",
    "    \"\"\"Recibe como parametro cinco enteros, numero de iteraciones n, semilla Xo,\n",
    "    , incremnto, modulo y multiplicador. \n",
    "    Los numeros random generados estan entre 0 y 1.\n",
    "    Imprime el valor de cada iteracion\"\"\"\n",
    "    resultados = [Xo]\n",
    "    for i in range(n):\n",
    "        resultados.append(((resultados[i]*multiplicador + incremento) % modulo))  \n",
    "    resultados.pop(0)\n",
    "    for i in range(n):\n",
    "        resultados[i] = resultados[i]/modulo   \n",
    "    return resultados"
   ]
  },
  {
   "cell_type": "markdown",
   "metadata": {},
   "source": [
    "Mostramos tambien los primeros 10 numeros generados con esta modificacion."
   ]
  },
  {
   "cell_type": "code",
   "execution_count": 4,
   "metadata": {},
   "outputs": [
    {
     "name": "stdout",
     "output_type": "stream",
     "text": [
      "El numero 1 es: 0.14318012143485248\n",
      "El numero 2 es: 0.7728373021818697\n",
      "El numero 3 es: 0.37451240117661655\n",
      "El numero 4 es: 0.11922924080863595\n",
      "El numero 5 es: 0.7613474770914763\n",
      "El numero 6 es: 0.19383115181699395\n",
      "El numero 7 es: 0.3765918433200568\n",
      "El numero 8 es: 0.28994747856631875\n",
      "El numero 9 es: 0.966980119002983\n",
      "El numero 10 es: 0.21455453941598535\n"
     ]
    }
   ],
   "source": [
    "resultado = GCL_con_rango(10,SEMILLA,1664525, 2**32, 1013904223)\n",
    "for n in range(10):\n",
    "    print('El numero '+str(n+1)+' es: '+ str(resultado[n]))"
   ]
  },
  {
   "cell_type": "markdown",
   "metadata": {},
   "source": [
    "## Item C"
   ]
  },
  {
   "cell_type": "code",
   "execution_count": 5,
   "metadata": {},
   "outputs": [
    {
     "data": {
      "image/png": "[encoded data removed]",
      "text/plain": [
       "<Figure size 576x576 with 1 Axes>"
      ]
     },
     "metadata": {},
     "output_type": "display_data"
    }
   ],
   "source": [
    "plt.rcParams[\"figure.figsize\"] = (8,8)\n",
    "plt.hist(GCL_con_rango(100000,SEMILLA,1664525, 2**32, 1013904223), histtype='bar',\n",
    "         edgecolor='darkblue',color='blue')\n",
    "title_obj = plt.title('Histograma de los primeros 100.000 resultados del punto B')                \n",
    "plt.getp(title_obj, 'text')            \n",
    "plt.setp(title_obj, color='blue', size=22)\n",
    "plt.xlabel('Resultado', fontsize=15).set_color(\"blue\")\n",
    "plt.ylabel('Frecuencia', fontsize=15).set_color(\"blue\")\n",
    "plt.xticks(color=\"blue\")\n",
    "plt.yticks(color=\"blue\")\n",
    "plt.show()"
   ]
  },
  {
   "cell_type": "markdown",
   "metadata": {},
   "source": [
    "Podemos observar que el algoritmo utilizado tiene una ditribucion similar a una uniforme por lo que es bueno."
   ]
  },
  {
   "cell_type": "markdown",
   "metadata": {},
   "source": [
    "# Ejercicio 2"
   ]
  },
  {
   "cell_type": "markdown",
   "metadata": {},
   "source": [
    "## Item A"
   ]
  },
  {
   "cell_type": "markdown",
   "metadata": {},
   "source": [
    "Definimos el espacio muestral: S={2,3,4,5,6,7,8,9,10,11,12}"
   ]
  },
  {
   "cell_type": "markdown",
   "metadata": {},
   "source": [
    "## Item B"
   ]
  },
  {
   "cell_type": "markdown",
   "metadata": {},
   "source": [
    "Utilizando las funciones del ejercicio 1, creamos una nueva funcion para simular la tirada de dos dados"
   ]
  },
  {
   "cell_type": "code",
   "execution_count": 6,
   "metadata": {},
   "outputs": [],
   "source": [
    "SEMILLA = (99730+100866+96786+93762)//4\n",
    "\n",
    "def GCL(n,Xo,incremento, modulo, multiplicador):\n",
    "    resultados = [Xo]\n",
    "    for i in range(n):\n",
    "        resultados.append((resultados[i]*multiplicador + incremento) % modulo)\n",
    "    resultados.pop(0)\n",
    "    return resultados\n",
    "\n",
    "def GCL_con_rango(n,Xo,incremento, modulo, multiplicador):\n",
    "    resultados = GCL(n,Xo,incremento,modulo,multiplicador);\n",
    "    for i in range(n):\n",
    "        resultados[i] = resultados[i]/modulo\n",
    "    return resultados"
   ]
  },
  {
   "cell_type": "code",
   "execution_count": 7,
   "metadata": {},
   "outputs": [],
   "source": [
    "def simular_dado(Xo):\n",
    "    if ( 0<Xo<=1/6 ):\n",
    "        return 1\n",
    "    elif ( 1/6<Xo<=2/6 ):\n",
    "        return 2\n",
    "    elif ( 2/6<Xo<=3/6 ):\n",
    "        return 3\n",
    "    elif ( 3/6<Xo<=4/6 ):\n",
    "        return 4\n",
    "    elif ( 4/6<Xo<=5/6 ):\n",
    "        return 5\n",
    "    else:\n",
    "        return 6\n",
    "\n",
    "\n",
    "def simular_tiradas(n):\n",
    "    tiradas = GCL_con_rango(n,SEMILLA,1664525, 2**32, 1013904223)\n",
    "    dados = []\n",
    "    for i in range(0,n,2):\n",
    "        dados.append((simular_dado(tiradas[i]),simular_dado(tiradas[i+1])))\n",
    "    return dados"
   ]
  },
  {
   "cell_type": "markdown",
   "metadata": {},
   "source": [
    "Con las funciones definidas, simulamos las tiradas"
   ]
  },
  {
   "cell_type": "code",
   "execution_count": 8,
   "metadata": {},
   "outputs": [],
   "source": [
    "tiradas = simular_tiradas(20000)"
   ]
  },
  {
   "cell_type": "markdown",
   "metadata": {},
   "source": [
    "Imprimimos los primeros 10 pares:"
   ]
  },
  {
   "cell_type": "code",
   "execution_count": 9,
   "metadata": {},
   "outputs": [
    {
     "name": "stdout",
     "output_type": "stream",
     "text": [
      "El par generado numero 1 es: (1, 5)\n",
      "El par generado numero 2 es: (3, 1)\n",
      "El par generado numero 3 es: (5, 2)\n",
      "El par generado numero 4 es: (3, 2)\n",
      "El par generado numero 5 es: (6, 2)\n",
      "El par generado numero 6 es: (4, 4)\n",
      "El par generado numero 7 es: (2, 4)\n",
      "El par generado numero 8 es: (2, 4)\n",
      "El par generado numero 9 es: (4, 2)\n",
      "El par generado numero 10 es: (4, 5)\n"
     ]
    }
   ],
   "source": [
    "for n in range(10):\n",
    "    print('El par generado numero '+str(n+1)+' es: '+ str(tiradas[n]))"
   ]
  },
  {
   "cell_type": "markdown",
   "metadata": {},
   "source": [
    "## Item C"
   ]
  },
  {
   "cell_type": "code",
   "execution_count": 10,
   "metadata": {},
   "outputs": [
    {
     "data": {
      "image/png": "[encoded data removed]",
      "text/plain": [
       "<Figure size 576x576 with 1 Axes>"
      ]
     },
     "metadata": {},
     "output_type": "display_data"
    }
   ],
   "source": [
    "tiradas = simular_tiradas(20000)\n",
    "sumas = [tirada[0] + tirada[1] for tirada in tiradas]\n",
    "ticksx = list(range(14))\n",
    "title_obj = plt.title(\"Histograma de las tiradas del punto B\")                \n",
    "plt.getp(title_obj, 'text')            \n",
    "plt.setp(title_obj, color='blue', size=22)\n",
    "plt.xlabel('Suma de los dados', fontsize=15).set_color(\"blue\")\n",
    "plt.ylabel('Frequencia', fontsize=15).set_color(\"blue\")\n",
    "plt.xticks(ticksx, color=\"blue\")\n",
    "plt.yticks(color=\"blue\")\n",
    "bins = np.arange(1.5,13.5,1)\n",
    "plt.hist(sumas, bins=bins,histtype='bar', edgecolor='darkblue',color='blue');"
   ]
  },
  {
   "cell_type": "markdown",
   "metadata": {},
   "source": [
    "# Ejercicio 3"
   ]
  },
  {
   "cell_type": "markdown",
   "metadata": {},
   "source": [
    "## Item A\n",
    "\n",
    "Comenzamos importando las librerias necesarias y definiendo la funcion que vamos a graficar."
   ]
  },
  {
   "cell_type": "code",
   "execution_count": 11,
   "metadata": {},
   "outputs": [],
   "source": [
    "import numpy as np\n",
    "import matplotlib.pyplot as plt"
   ]
  },
  {
   "cell_type": "markdown",
   "metadata": {},
   "source": [
    "Se define la función que recibe un parámetro x y devuelve:\n",
    "$$\n",
    "    f_X(x) = \\begin{cases}\n",
    "                \\frac{13}{12\\pi} - \\frac{x^2}{\\pi^3},\\quad -\\frac{\\pi}{2} \\leq x \\leq \\frac{\\pi}{2} \\\\\n",
    "                0, \\quad \\text{otro caso }\\\\\n",
    "            \\end{cases}\n",
    "$$"
   ]
  },
  {
   "cell_type": "code",
   "execution_count": 12,
   "metadata": {},
   "outputs": [],
   "source": [
    "def f(x):\n",
    "    if (x < (-np.pi / 2)) or (x > np.pi/2):\n",
    "        return 0.\n",
    "    else:\n",
    "        return (13/(12*np.pi) - (1/(np.pi**3)) * x**2)\n",
    "\n",
    "f = np.vectorize(f)"
   ]
  },
  {
   "cell_type": "markdown",
   "metadata": {},
   "source": [
    "El grafico de la funcion densidad es el siguiente:"
   ]
  },
  {
   "cell_type": "code",
   "execution_count": 13,
   "metadata": {},
   "outputs": [
    {
     "data": {
      "image/png": "[encoded data removed]",
      "text/plain": [
       "<Figure size 576x360 with 1 Axes>"
      ]
     },
     "metadata": {},
     "output_type": "display_data"
    }
   ],
   "source": [
    "plt.rcParams[\"figure.figsize\"] = (8,8)\n",
    "dt = 0.01\n",
    "plt.figure(figsize=[8,5])\n",
    "x = np.arange(-np.pi/2,np.pi/2,dt)\n",
    "plt.plot(x,f(x))\n",
    "\n",
    "plt.axvline(-np.pi/2,0,f(-np.pi/2)/0.5)\n",
    "plt.axvline(np.pi/2,0,f(np.pi/2)/0.5)\n",
    "\n",
    "plt.axis([-2,2,0,0.5])\n",
    "title_obj = plt.title(\"Densidad de X\")                \n",
    "plt.getp(title_obj, 'text')            \n",
    "plt.setp(title_obj, color='blue', size=22)\n",
    "plt.xlabel('x', fontsize=15).set_color(\"blue\")\n",
    "plt.ylabel('f(x)', fontsize=15).set_color(\"blue\")\n",
    "plt.xticks(color=\"blue\")\n",
    "plt.yticks(color=\"blue\")\n",
    "\n",
    "\n",
    "plt.grid(True)"
   ]
  },
  {
   "cell_type": "markdown",
   "metadata": {},
   "source": [
    "## Item B"
   ]
  },
  {
   "cell_type": "markdown",
   "metadata": {},
   "source": [
    "La funcion de densidad de probabilidad es:\n",
    "<br>\n",
    "$$\n",
    "    f_X(x) = \\begin{cases}\n",
    "                \\frac{13}{12\\pi} - \\frac{x^2}{\\pi^3},\\quad -\\frac{\\pi}{2} \\leq x \\leq \\frac{\\pi}{2} \\\\\n",
    "                0, \\quad \\text{otro caso }\\\\\n",
    "            \\end{cases}\n",
    "$$\n",
    "<br>\n",
    "integramos la funcion para encontrar la funcion de probabilidad acumulada y luego su inversa:\n",
    "<br><br>\n",
    "$$\n",
    "    F_X(x) = \\int_{-\\infty}^{x}f_X(t) dt = \\int_{-\\frac{\\pi}{2}}^{x} \\frac{13}{12\\pi} - \\frac{t^2}{\\pi^3} dt\\\\\n",
    "$$\n",
    "<br>\n",
    "$$\n",
    "    \\implies F_X(x) =  \\frac{13 t}{12\\pi} - \\frac{t^3}{3\\pi^3} \\big|_{\\frac{-\\pi}{2}}^x \\\\\n",
    "$$\n",
    "<br>\n",
    "$$\n",
    "     \\implies F_X(x) = \\frac{13 x}{12\\pi} - \\frac{x^3}{3\\pi^3} + \\frac{13}{24} - \\frac{1}{24} = \\frac{13 x}{12\\pi} - \\frac{x^3}{3\\pi^3} + \\frac{1}{2} \n",
    "$$\n",
    "<br>\n",
    "La función de distribución es un polinomio de grado 3. Su inversa es muy difícil de obtener analíticamente. Por lo tanto, intentarmos aproximarla numéricamente, ya que con eso alcanzará para cumplir con el objetivo del ejercicio de generar la distribución."
   ]
  },
  {
   "cell_type": "markdown",
   "metadata": {},
   "source": [
    "Tomamos muestras de la distribución separadas por dt = 0.01, que se utilizarán para aproximar la función inversa."
   ]
  },
  {
   "cell_type": "code",
   "execution_count": 14,
   "metadata": {},
   "outputs": [],
   "source": [
    "def F(x):\n",
    "    if (x < -np.pi/2):\n",
    "        return 0.\n",
    "    if (x > np.pi/2):\n",
    "        return 1.\n",
    "    return (13*x / (12*np.pi)) - (x**3)/(3*np.pi**3) + 1/2\n",
    "\n",
    "F = np.vectorize(F)\n",
    "\n",
    "dt=0.01\n",
    "rango_muestras = np.arange(-np.pi/2,np.pi,dt)\n",
    "muestras = F(rango_muestras)"
   ]
  },
  {
   "cell_type": "markdown",
   "metadata": {},
   "source": [
    "Ahora para la inversa se invierte el rol de los ejes: el eje X en la distribución pasa a ser el eje Y de la inversa y viceversa. \n",
    "Luego, para calcular la inversa en un determinado punto u, se interpolan las muestras tomadas entre $t_1$ y $t_2$, siendo $F_X(t_1) < u $ y $F_X(t_2) >= u$, de modo que \n",
    "<br><br>\n",
    "$$\n",
    "\\hat{F_X^{-1}}(u) = t_1 + dt  \\frac{u - F_X(t_1)}{F_X(t_2) - F_X(t_1)}\n",
    "$$"
   ]
  },
  {
   "cell_type": "code",
   "execution_count": 15,
   "metadata": {},
   "outputs": [],
   "source": [
    "def Finv(u):\n",
    "    t = -np.pi/2\n",
    "    i=1\n",
    "    m = muestras[1]\n",
    "    m_ant = muestras[0]\n",
    "    while (m < u):\n",
    "        t+=dt\n",
    "        m_ant = m\n",
    "        i+=1\n",
    "        m = muestras[i]\n",
    "        \n",
    "    inv = (t-dt) + dt*(u-m_ant)/(m - m_ant)\n",
    "    return inv\n",
    "\n",
    "Finv = np.vectorize(Finv)"
   ]
  },
  {
   "cell_type": "markdown",
   "metadata": {},
   "source": [
    "Graficamos la funcion de probabilidad acumulada:"
   ]
  },
  {
   "cell_type": "code",
   "execution_count": 16,
   "metadata": {},
   "outputs": [
    {
     "data": {
      "image/png": "[encoded data removed]",
      "text/plain": [
       "<Figure size 720x720 with 1 Axes>"
      ]
     },
     "metadata": {},
     "output_type": "display_data"
    }
   ],
   "source": [
    "plt.figure(figsize=[10,10])\n",
    "x = np.arange(-2,2,dt)\n",
    "\n",
    "plt.subplot(211)\n",
    "plt.plot(x,F(x))\n",
    "plt.axis([-2,2,0,1.5])\n",
    "title_obj = plt.title(\"Distribución de X\")                \n",
    "plt.getp(title_obj, 'text')            \n",
    "plt.setp(title_obj, color='blue', size=22)\n",
    "plt.xlabel(\"x\", fontsize=15).set_color(\"blue\")\n",
    "plt.ylabel(\"$F_X(x)$\", fontsize=15).set_color(\"blue\")\n",
    "plt.xticks(color=\"blue\")\n",
    "plt.yticks(color=\"blue\")\n",
    "\n",
    "plt.grid(True)"
   ]
  },
  {
   "cell_type": "markdown",
   "metadata": {},
   "source": [
    "Graficamos la inversa de la funcion de probabilidad acumulada:"
   ]
  },
  {
   "cell_type": "code",
   "execution_count": 17,
   "metadata": {},
   "outputs": [
    {
     "data": {
      "image/png": "[encoded data removed]",
      "text/plain": [
       "<Figure size 720x720 with 1 Axes>"
      ]
     },
     "metadata": {},
     "output_type": "display_data"
    }
   ],
   "source": [
    "plt.figure(figsize=[10,10])\n",
    "u = np.arange(0,1,0.01)\n",
    "plt.subplot(212)\n",
    "plt.plot(u,Finv(u))\n",
    "plt.axis([0,1,-np.pi/2,np.pi/2])\n",
    "\n",
    "title_obj = plt.title(\"Inversa de $F_X(x)$\")                \n",
    "plt.getp(title_obj, 'text')            \n",
    "plt.setp(title_obj, color='blue', size=22)\n",
    "plt.xlabel(\"x\", fontsize=15).set_color(\"blue\")\n",
    "plt.ylabel(\"$F_X^{-1}(x)$\", fontsize=15).set_color(\"blue\")\n",
    "plt.xticks(color=\"blue\")\n",
    "plt.yticks(color=\"blue\")\n",
    "\n",
    "\n",
    "plt.grid(True)"
   ]
  },
  {
   "cell_type": "markdown",
   "metadata": {},
   "source": [
    "## Item C"
   ]
  },
  {
   "cell_type": "markdown",
   "metadata": {},
   "source": [
    "Generamos 10^5 muestras de U uniforme entre 0 y 1, utilizando el generador aleatorio del ejercicio 1.\n",
    "Por el método de transformación inversa sabemos que, con U uniforme entre 0 y 1,\n",
    "$$\n",
    "    F_X^{-1}(U) \\sim X\n",
    "$$\n",
    "Por esta razón, calculamos la distribución inversa de X para los valores generados por el generador pseudo aleatorio, esperando conseguir la distribución propuesta."
   ]
  },
  {
   "cell_type": "code",
   "execution_count": 18,
   "metadata": {},
   "outputs": [],
   "source": [
    "N = int(1e5)\n",
    "U = GCL_con_rango(N,SEMILLA,1664525, 2**32, 1013904223)\n",
    "Xgen = Finv(U)"
   ]
  },
  {
   "cell_type": "markdown",
   "metadata": {},
   "source": [
    "## Item D"
   ]
  },
  {
   "cell_type": "markdown",
   "metadata": {},
   "source": [
    "Con las muestras generadas, realizamos un histograma y lo normalizamos con el número de muestras, de forma que el área del histograma normalizado representa una densidad"
   ]
  },
  {
   "cell_type": "code",
   "execution_count": 42,
   "metadata": {},
   "outputs": [
    {
     "data": {
      "image/png": "[encoded data removed]",
      "text/plain": [
       "<Figure size 576x360 with 1 Axes>"
      ]
     },
     "metadata": {},
     "output_type": "display_data"
    }
   ],
   "source": [
    "dt = 0.01\n",
    "plt.figure(figsize=[8,5])\n",
    "x = np.arange(-np.pi/2,np.pi/2,dt)\n",
    "plt.plot(x,f(x),'r',label=\"Densidad de X\")\n",
    "\n",
    "plt.axvline(-np.pi/2,0,f(-np.pi/2)/0.5,c='r')\n",
    "plt.axvline(np.pi/2,0,f(np.pi/2)/0.5,c='r')\n",
    "\n",
    "plt.axis([-2,2,0,0.5])\n",
    "\n",
    "title_obj = plt.title(\"Histograma normalizado de muestras generadas\")                \n",
    "plt.getp(title_obj, 'text')            \n",
    "plt.setp(title_obj, color='blue', size=22)\n",
    "plt.xlabel(\"x\", fontsize=15).set_color(\"blue\")\n",
    "plt.ylabel(\"f(x)\", fontsize=15).set_color(\"blue\")\n",
    "plt.xticks(color=\"blue\")\n",
    "plt.yticks(color=\"blue\")\n",
    "\n",
    "plt.grid(True)\n",
    "hist = plt.hist(Xgen,density=True,bins='sturges',alpha=0.5,label=\"Frecuencias normalizadas\")\n",
    "\n",
    "plt.legend()\n",
    "\n",
    "\n",
    "plt.show()"
   ]
  },
  {
   "cell_type": "markdown",
   "metadata": {},
   "source": [
    "Podemos ver que la curva teórica de la densidad propuesta ajusta muy bien a las muestras generadas. Con esto podemos confirmar que el cálculo de la inversa mediante interpolación fue correcto."
   ]
  },
  {
   "cell_type": "markdown",
   "metadata": {},
   "source": [
    "# Ejercicio 4"
   ]
  },
  {
   "cell_type": "markdown",
   "metadata": {},
   "source": [
    "## Item A y B"
   ]
  },
  {
   "cell_type": "code",
   "execution_count": 20,
   "metadata": {},
   "outputs": [],
   "source": [
    "import numpy as np\n",
    "import matplotlib.pyplot as plt\n",
    "from scipy.stats import norm"
   ]
  },
  {
   "cell_type": "code",
   "execution_count": 21,
   "metadata": {},
   "outputs": [
    {
     "data": {
      "image/png": "[encoded data removed]",
      "text/plain": [
       "<Figure size 576x576 with 1 Axes>"
      ]
     },
     "metadata": {},
     "output_type": "display_data"
    }
   ],
   "source": [
    "mu = 25\n",
    "sigma = 2\n",
    "x = np.arange(mu-3*sigma,mu+3*sigma,0.001)\n",
    "xticks = np.arange(19,31,1)\n",
    "normal = norm(mu,sigma)\n",
    "plot = plt.plot(x,normal.pdf(x), color = 'blue')\n",
    "title_obj = plt.title(\"Densidad de $X\\sim N(\\mu,\\sigma^2), \\mu=25,\\sigma=2$\")                \n",
    "plt.getp(title_obj, 'text')            \n",
    "plt.setp(title_obj, color='blue', size=22)\n",
    "plt.xlabel(\"x\", fontsize=15).set_color(\"blue\")\n",
    "plt.ylabel(\"f(x)\", fontsize=15).set_color(\"blue\")\n",
    "plt.xticks(xticks, color=\"blue\")\n",
    "plt.yticks(color=\"blue\")\n",
    "\n",
    "plt.grid(True)"
   ]
  },
  {
   "cell_type": "markdown",
   "metadata": {},
   "source": [
    "## Item C"
   ]
  },
  {
   "cell_type": "markdown",
   "metadata": {},
   "source": [
    "Considerando que para una distribución normal aproximadamente el 99.7% de la probabilidad se concentra en el intervalo $[\\mu-3\\sigma,\\mu+3\\sigma]$, supondremos para nuestro algoritmo que la variable aleatoria está restringida a ese intervalo ([19,31] con los datos del enunciado)."
   ]
  },
  {
   "cell_type": "code",
   "execution_count": 22,
   "metadata": {},
   "outputs": [],
   "source": [
    "def aceptacionRechazo(n):\n",
    "    gen = np.zeros(n)\n",
    "    for i in range(0,n):\n",
    "        accept = False\n",
    "        while not accept:\n",
    "            U1 = np.random.rand()*6*sigma + mu - 3*sigma\n",
    "            U2 = np.random.rand()*maximo\n",
    "            if (U2 < normal.pdf(U1)):\n",
    "                gen[i] = U1\n",
    "                accept = True\n",
    "    return gen"
   ]
  },
  {
   "cell_type": "code",
   "execution_count": 23,
   "metadata": {},
   "outputs": [],
   "source": [
    "maximo = normal.pdf(mu)\n",
    "N = int(1e5)\n",
    "generados = aceptacionRechazo(N)"
   ]
  },
  {
   "cell_type": "code",
   "execution_count": 44,
   "metadata": {},
   "outputs": [
    {
     "data": {
      "image/png": "[encoded data removed]",
      "text/plain": [
       "<Figure size 576x432 with 1 Axes>"
      ]
     },
     "metadata": {},
     "output_type": "display_data"
    }
   ],
   "source": [
    "plt.figure(figsize=[8,6])\n",
    "x = np.arange(mu-3*sigma,mu+3*sigma,0.001)\n",
    "xticks = np.arange(19,31,1)\n",
    "normal = norm(mu,sigma)\n",
    "plot = plt.plot(x,normal.pdf(x),c='r',label=\"Densidad teórica\")\n",
    "plt.xticks(xticks)\n",
    "plt.hist(generados,bins='sturges',density=True,color='b',alpha=0.5,\n",
    "         label=\"Frecuencia muestral\\nnormalizada\")\n",
    "\n",
    "title_obj = plt.title(\"Densidad teórica y frecuencia muestral normalizada\")                \n",
    "plt.getp(title_obj, 'text')            \n",
    "plt.setp(title_obj, color='blue', size=22)\n",
    "plt.xticks(xticks, color=\"blue\")\n",
    "plt.yticks(color=\"blue\")\n",
    "\n",
    "\n",
    "plt.legend(loc='best')\n",
    "plt.grid(True)\n",
    "plt.show()"
   ]
  },
  {
   "cell_type": "markdown",
   "metadata": {},
   "source": [
    "## Item D\n",
    "\n",
    "Realizamos las comparaciones pedidas"
   ]
  },
  {
   "cell_type": "code",
   "execution_count": 25,
   "metadata": {},
   "outputs": [
    {
     "name": "stdout",
     "output_type": "stream",
     "text": [
      "Media muestral: 25.00945.\n",
      "Varianza muestral: 3.91868\n"
     ]
    }
   ],
   "source": [
    "media_muestral = sum(generados)/N\n",
    "varianza_muestral = sum((generados - media_muestral)**2) / N\n",
    "\n",
    "print(\"Media muestral: %5.5f.\"%media_muestral)\n",
    "print(\"Varianza muestral: %5.5f\"%varianza_muestral)"
   ]
  },
  {
   "cell_type": "code",
   "execution_count": 26,
   "metadata": {},
   "outputs": [
    {
     "name": "stdout",
     "output_type": "stream",
     "text": [
      "Error relativo en la media muestral: 0.00038.\n",
      "Error relativo en la varianza muestral: 0.02033\n"
     ]
    }
   ],
   "source": [
    "Er_media = abs(media_muestral - mu) / mu\n",
    "Er_var = abs(varianza_muestral - sigma**2) / sigma**2\n",
    "print(\"Error relativo en la media muestral: %5.5f.\"%Er_media)\n",
    "print(\"Error relativo en la varianza muestral: %5.5f\"%Er_var)"
   ]
  },
  {
   "cell_type": "markdown",
   "metadata": {},
   "source": [
    "# Ejercicio 5"
   ]
  },
  {
   "cell_type": "code",
   "execution_count": 27,
   "metadata": {},
   "outputs": [],
   "source": [
    "#FALTA"
   ]
  },
  {
   "cell_type": "markdown",
   "metadata": {},
   "source": [
    "# Ejercicio 6"
   ]
  },
  {
   "cell_type": "markdown",
   "metadata": {},
   "source": [
    "Utilizamos las funciones definidas en el ejercicio 2"
   ]
  },
  {
   "cell_type": "code",
   "execution_count": 28,
   "metadata": {},
   "outputs": [],
   "source": [
    "from scipy.stats import chi2,chisquare\n",
    "import random"
   ]
  },
  {
   "cell_type": "code",
   "execution_count": 29,
   "metadata": {},
   "outputs": [],
   "source": [
    "def GCL_con_rango(n,Xo,incremento, modulo, multiplicador):\n",
    "    \"\"\"Recibe como parametro cinco enteros, numero de iteraciones n, semilla Xo,\n",
    "    , incremnto, modulo y multiplicador. \n",
    "    Los numeros random generados estan entre 0 y 1.\n",
    "    Imprime el valor de cada iteracion\"\"\"\n",
    "    resultados = [Xo]\n",
    "    for i in range(n):\n",
    "        resultados.append(((resultados[i]*multiplicador + incremento) % modulo))  \n",
    "    resultados.pop(0)\n",
    "    for i in range(n):\n",
    "        resultados[i] = resultados[i]/modulo   \n",
    "    return resultados\n",
    "\n",
    "def simular_dado(Xo):\n",
    "    resultado_dado=GCL_con_rango(10,Xo,1664525, 2**32, 1013904223)[0]\n",
    "    if ( 0<resultado_dado<=1/6 ):\n",
    "        resultado_dado=1\n",
    "    elif ( 1/6<resultado_dado<=2/6 ):\n",
    "        resultado_dado=2\n",
    "    elif ( 2/6<resultado_dado<=3/6 ):\n",
    "        resultado_dado=3\n",
    "    elif ( 3/6<resultado_dado<=4/6 ):\n",
    "        resultado_dado=4\n",
    "    elif ( 4/6<resultado_dado<=5/6 ):\n",
    "        resultado_dado=5\n",
    "    else:\n",
    "        resultado_dado=6\n",
    "    return resultado_dado\n",
    "\n",
    "\n",
    "def simular_dados(n):\n",
    "    tiradas=[]\n",
    "    for i in range(1,n+1):\n",
    "        tiradas.append((simular_dado(int(random.randrange(1000))),simular_dado(int(random.randrange(1000)))))\n",
    "    return tiradas"
   ]
  },
  {
   "cell_type": "markdown",
   "metadata": {},
   "source": [
    "Con el generador de numeros pseudo aleatorios del punto 2, generamos 10^5 tiradas de 2 dados. Luego, a cada tirada le calculamos el resultado como la suma de ambos dados. A partir de ese cálculo, generamos un histograma que muestre las ocurrencias de cada resultado posible."
   ]
  },
  {
   "cell_type": "code",
   "execution_count": 30,
   "metadata": {},
   "outputs": [],
   "source": [
    "N = int(1e5)\n",
    "tiradas = list(map(lambda x: x[0]+x[1], simular_dados(N)))"
   ]
  },
  {
   "cell_type": "code",
   "execution_count": 48,
   "metadata": {},
   "outputs": [
    {
     "data": {
      "image/png": "[encoded data removed]",
      "text/plain": [
       "<Figure size 576x576 with 1 Axes>"
      ]
     },
     "metadata": {},
     "output_type": "display_data"
    }
   ],
   "source": [
    "bins = np.arange(1.5,13.5,1)\n",
    "hist = plt.hist(tiradas,bins=bins,histtype='bar', edgecolor='darkblue',color='blue')\n",
    "title_obj = plt.title(\"Histograma de las Tiradas Obtenidas\")                \n",
    "plt.getp(title_obj, 'text')            \n",
    "plt.setp(title_obj, color='blue', size=22)\n",
    "plt.xticks(np.arange(2,13,1),color=\"blue\")\n",
    "plt.yticks(color=\"blue\")\n",
    "plt.xlabel(\"Suma\", fontsize=15).set_color(\"blue\")\n",
    "plt.ylabel(\"Frequencia\", fontsize=15).set_color(\"blue\");"
   ]
  },
  {
   "cell_type": "markdown",
   "metadata": {},
   "source": [
    "Las frecuencias normalizadas que se desearían para cada posible valor de una tirada están la siguiente tabla\n",
    "\n",
    "<img src=\"./dados.jpg\" style=\"width:500px\"/>"
   ]
  },
  {
   "cell_type": "markdown",
   "metadata": {},
   "source": [
    "Se tiene la fórmula para el estadístico $D^2$ test de Chi cuadrado:\n",
    "\n",
    "$$\n",
    "    D^2 = \\sum_{s=1}^k \\frac{ (Y_s - n p_s )^2}{n p_s} \\\\\n",
    "    Y_s :\\text{Frecuencia observada}, \\quad n p_s: \\text{ Frecuencia esperada }, \\quad k: \\text{clases,buckets,etc}\n",
    "$$\n",
    "\n",
    "y nos plantean tomar un nivel de significación de 1% es decir, $\\alpha = 0.01$\n",
    "\n",
    "Si el estadístico es mayor tiene un valor-P asociado mayor a $\\alpha$ o de forma equivalente, que sea $D^2 < D_{\\alpha}$, la ddistribución será aceptada.\n",
    "$$\n",
    "$$\n",
    "\n",
    "No es necesario implementar el cálculo del estadístico, el mismo ya esta implementado en la libreria scipy.stats"
   ]
  },
  {
   "cell_type": "markdown",
   "metadata": {},
   "source": [
    "Para poder realizar el test, definimos la frecuencia de cada resultado que esperaríamos obtener en la distribución contra la que estamos evaluando."
   ]
  },
  {
   "cell_type": "code",
   "execution_count": 53,
   "metadata": {},
   "outputs": [],
   "source": [
    "f_teo = np.array([1,2,3,4,5,6,5,4,3,2,1])/36 * len(tiradas)"
   ]
  },
  {
   "cell_type": "markdown",
   "metadata": {},
   "source": [
    "De los datos usados para el histograma sacamos las frecuencias generadas"
   ]
  },
  {
   "cell_type": "code",
   "execution_count": null,
   "metadata": {},
   "outputs": [],
   "source": [
    "f_obs = hist[0]\n",
    "f_obs"
   ]
  },
  {
   "cell_type": "markdown",
   "metadata": {},
   "source": [
    "Utilizando las frecuencias observadas y esperadas ejecutamos el test de Chi cuadrado, que obtiene el estadístico y su correspondiente valor P."
   ]
  },
  {
   "cell_type": "code",
   "execution_count": 49,
   "metadata": {},
   "outputs": [
    {
     "data": {
      "text/plain": [
       "Power_divergenceResult(statistic=10.118810000000009, pvalue=0.43013228949799964)"
      ]
     },
     "execution_count": 49,
     "metadata": {},
     "output_type": "execute_result"
    }
   ],
   "source": [
    "chi_test = chisquare(f_obs,f_teo)\n",
    "chi_test"
   ]
  },
  {
   "cell_type": "code",
   "execution_count": 50,
   "metadata": {},
   "outputs": [
    {
     "name": "stdout",
     "output_type": "stream",
     "text": [
      "El test de Chi^2 devolvio un estadístico D = 10.118810000000009, correspondiente al valor p = 0.43013228949799964\n"
     ]
    }
   ],
   "source": [
    "msj = \"El test de Chi^2 devolvio un estadístico D = {0}, correspondiente al valor p = {1}\"\\\n",
    "    .format(chi_test[0] , chi_test[1])\n",
    "print(msj)"
   ]
  },
  {
   "cell_type": "markdown",
   "metadata": {},
   "source": [
    "El test de $\\chi^2$ nos devolvió un estadístico $D^2$ cuyo valor P asociado es mayor que el nivel de significación elegido ($\\alpha = 0.01$). Por lo tanto, la distribución es aceptada. Para cambiar el resultado del test de hipótesis deberíamos tomar cualquier nivel de significación mayor al valor P obtenido ($\\alpha\\in(pValue,1)$)\n",
    "$$\n",
    "$$"
   ]
  },
  {
   "cell_type": "markdown",
   "metadata": {},
   "source": [
    "# Ejercicio 7"
   ]
  },
  {
   "cell_type": "markdown",
   "metadata": {},
   "source": [
    "Recordamos que en el ejercicio 4, mediante el método de aceptación y rechazo, implementamos un generador de números aleatorios con distribución normal con media $\\mu = 6$ y desvío estándar $\\sigma = 2$. Utilizamos nuevamente ese generador para obtener 100.000 muestras.\n",
    "$$\n",
    "$$"
   ]
  },
  {
   "cell_type": "code",
   "execution_count": 35,
   "metadata": {},
   "outputs": [],
   "source": [
    "def aceptacionRechazo(n):\n",
    "    gen = np.zeros(n)\n",
    "    for i in range(0,n):\n",
    "        accept = False\n",
    "        while not accept:\n",
    "            U1 = np.random.rand()*6*sigma + mu - 3*sigma\n",
    "            U2 = np.random.rand()*maximo\n",
    "            if (U2 < normal.pdf(U1)):\n",
    "                gen[i] = U1\n",
    "                accept = True\n",
    "    return gen"
   ]
  },
  {
   "cell_type": "code",
   "execution_count": 36,
   "metadata": {},
   "outputs": [],
   "source": [
    "N = int(1e5)\n",
    "generados = aceptacionRechazo(N)\n",
    "ordenados = np.sort(generados)"
   ]
  },
  {
   "cell_type": "markdown",
   "metadata": {},
   "source": [
    "A las muestras obtenidas, les aplicamos el Test de Kolmogorov-Smirnov contra la distribución teórica.\n",
    "Calculamos q tal que:\n",
    "<br><br>\n",
    "$$\n",
    "    q = \\max_x |\\hat{F}_X(x) - F_X(x)|\n",
    "$$"
   ]
  },
  {
   "cell_type": "code",
   "execution_count": 54,
   "metadata": {},
   "outputs": [],
   "source": [
    "q = 0\n",
    "i = 0\n",
    "while i < N:\n",
    "    x = ordenados[i]\n",
    "    if abs(i/N - normal.cdf(x)) > q:\n",
    "        max_x = x\n",
    "        q = abs(i/N - normal.cdf(x))\n",
    "    i+=1"
   ]
  },
  {
   "cell_type": "code",
   "execution_count": 55,
   "metadata": {},
   "outputs": [
    {
     "name": "stdout",
     "output_type": "stream",
     "text": [
      "q es: 0.004253716410625219\n",
      "El max es: 26.388940240581036\n"
     ]
    }
   ],
   "source": [
    "print('q es: '+ str(q))\n",
    "print('El max es: '+ str(max_x))"
   ]
  },
  {
   "cell_type": "markdown",
   "metadata": {},
   "source": [
    "Nos proponen un nivel de significación $\\alpha = 0.01$. Aceptaremos la distribución si:\n",
    "<br><br>\n",
    "$$\n",
    "    q \\gt \\sqrt{\\frac{-1}{2N}\\ln{\\frac{\\alpha}{2}}} = \\text{umbral}\n",
    "$$"
   ]
  },
  {
   "cell_type": "code",
   "execution_count": 39,
   "metadata": {},
   "outputs": [
    {
     "name": "stdout",
     "output_type": "stream",
     "text": [
      "El umbral es: 0.005146997846583986\n"
     ]
    }
   ],
   "source": [
    "alpha = 0.01\n",
    "umbral = np.sqrt(-1/(2*N) * np.log(alpha/2))\n",
    "print('El umbral es: ' +str(umbral))"
   ]
  },
  {
   "cell_type": "markdown",
   "metadata": {},
   "source": [
    "Finalmente"
   ]
  },
  {
   "cell_type": "code",
   "execution_count": 40,
   "metadata": {},
   "outputs": [
    {
     "name": "stdout",
     "output_type": "stream",
     "text": [
      "La distribución es rechazada por el test\n"
     ]
    }
   ],
   "source": [
    "if q > umbral:\n",
    "    print(\"La distribución es aceptada por el test\")\n",
    "else:\n",
    "    print(\"La distribución es rechazada por el test\")"
   ]
  },
  {
   "cell_type": "markdown",
   "metadata": {},
   "source": [
    "# Ejercicio 8"
   ]
  },
  {
   "cell_type": "code",
   "execution_count": null,
   "metadata": {},
   "outputs": [],
   "source": []
  },
  {
   "cell_type": "markdown",
   "metadata": {},
   "source": [
    "# Ejercicio 9"
   ]
  },
  {
   "cell_type": "code",
   "execution_count": null,
   "metadata": {},
   "outputs": [],
   "source": []
  },
  {
   "cell_type": "markdown",
   "metadata": {},
   "source": [
    "# Ejercicio 10"
   ]
  },
  {
   "cell_type": "code",
   "execution_count": null,
   "metadata": {},
   "outputs": [],
   "source": []
  }
 ],
 "metadata": {
  "kernelspec": {
   "display_name": "Python 3",
   "language": "python",
   "name": "python3"
  },
  "language_info": {
   "codemirror_mode": {
    "name": "ipython",
    "version": 3
   },
   "file_extension": ".py",
   "mimetype": "text/x-python",
   "name": "python",
   "nbconvert_exporter": "python",
   "pygments_lexer": "ipython3",
   "version": "3.6.4"
  }
 },
 "nbformat": 4,
 "nbformat_minor": 2
}
