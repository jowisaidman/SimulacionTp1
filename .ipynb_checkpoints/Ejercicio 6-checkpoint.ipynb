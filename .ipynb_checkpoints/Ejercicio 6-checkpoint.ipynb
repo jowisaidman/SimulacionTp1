{
 "cells": [
  {
   "cell_type": "code",
   "execution_count": 3,
   "metadata": {},
   "outputs": [],
   "source": [
    "import numpy as np\n",
    "import random\n",
    "import matplotlib.pyplot as plt"
   ]
  },
  {
   "cell_type": "code",
   "execution_count": 5,
   "metadata": {},
   "outputs": [
    {
     "name": "stdout",
     "output_type": "stream",
     "text": [
      "Ejercicio 2 - Item A\n",
      "El espacio muestral es S={2,3,4,5,6,7,8,9,10,11,12}\n",
      "#############################################\n",
      "Ejercicio 2 - Item B\n",
      "[(6, 5), (5, 5), (5, 4), (3, 2), (3, 5), (6, 5), (3, 3), (2, 3), (2, 1), (2, 5)]\n",
      "#############################################\n",
      "Ejercicio 1 - Item C\n"
     ]
    },
    {
     "ename": "NameError",
     "evalue": "name 'SEMILLA' is not defined",
     "output_type": "error",
     "traceback": [
      "\u001b[0;31m---------------------------------------------------------------------------\u001b[0m",
      "\u001b[0;31mNameError\u001b[0m                                 Traceback (most recent call last)",
      "\u001b[0;32m<ipython-input-5-7e23abeffdb8>\u001b[0m in \u001b[0;36m<module>\u001b[0;34m()\u001b[0m\n\u001b[1;32m     47\u001b[0m \u001b[0mprint\u001b[0m\u001b[0;34m(\u001b[0m\u001b[0;34m\"#############################################\"\u001b[0m\u001b[0;34m)\u001b[0m\u001b[0;34m\u001b[0m\u001b[0m\n\u001b[1;32m     48\u001b[0m \u001b[0mprint\u001b[0m\u001b[0;34m(\u001b[0m\u001b[0;34m\"Ejercicio 1 - Item C\"\u001b[0m\u001b[0;34m)\u001b[0m\u001b[0;34m\u001b[0m\u001b[0m\n\u001b[0;32m---> 49\u001b[0;31m \u001b[0mplt\u001b[0m\u001b[0;34m.\u001b[0m\u001b[0mhist\u001b[0m\u001b[0;34m(\u001b[0m\u001b[0mGCL_con_rango\u001b[0m\u001b[0;34m(\u001b[0m\u001b[0;36m100000\u001b[0m\u001b[0;34m,\u001b[0m\u001b[0mSEMILLA\u001b[0m\u001b[0;34m,\u001b[0m\u001b[0;36m1664525\u001b[0m\u001b[0;34m,\u001b[0m \u001b[0;36m2\u001b[0m\u001b[0;34m**\u001b[0m\u001b[0;36m32\u001b[0m\u001b[0;34m,\u001b[0m \u001b[0;36m1013904223\u001b[0m\u001b[0;34m)\u001b[0m\u001b[0;34m)\u001b[0m\u001b[0;34m\u001b[0m\u001b[0m\n\u001b[0m\u001b[1;32m     50\u001b[0m \u001b[0mplt\u001b[0m\u001b[0;34m.\u001b[0m\u001b[0mshow\u001b[0m\u001b[0;34m(\u001b[0m\u001b[0;34m)\u001b[0m\u001b[0;34m\u001b[0m\u001b[0m\n",
      "\u001b[0;31mNameError\u001b[0m: name 'SEMILLA' is not defined"
     ]
    }
   ],
   "source": [
    "### COPIADO DEL EJERCICIO 2\n",
    "\n",
    "def GCL_con_rango(n,Xo,incremento, modulo, multiplicador):\n",
    "    \"\"\"Recibe como parametro cinco enteros, numero de iteraciones n, semilla Xo,\n",
    "    , incremnto, modulo y multiplicador. \n",
    "    Los numeros random generados estan entre 0 y 1.\n",
    "    Imprime el valor de cada iteracion\"\"\"\n",
    "    resultados = [Xo]\n",
    "    for i in range(n):\n",
    "        resultados.append(((resultados[i]*multiplicador + incremento) % modulo))  \n",
    "    resultados.pop(0)\n",
    "    for i in range(n):\n",
    "        resultados[i] = resultados[i]/modulo   \n",
    "    return resultados\n",
    "\n",
    "def simular_dado(Xo):\n",
    "    resultado_dado=GCL_con_rango(10,Xo,1664525, 2**32, 1013904223)[0]\n",
    "    if ( 0<resultado_dado<=1/6 ):\n",
    "        resultado_dado=1\n",
    "    elif ( 1/6<resultado_dado<=2/6 ):\n",
    "        resultado_dado=2\n",
    "    elif ( 2/6<resultado_dado<=3/6 ):\n",
    "        resultado_dado=3\n",
    "    elif ( 3/6<resultado_dado<=4/6 ):\n",
    "        resultado_dado=4\n",
    "    elif ( 4/6<resultado_dado<=5/6 ):\n",
    "        resultado_dado=5\n",
    "    else:\n",
    "        resultado_dado=6\n",
    "    return resultado_dado\n",
    "\n",
    "\n",
    "def simular_dados(n):\n",
    "    tiradas=[]\n",
    "    for i in range(1,n+1):\n",
    "        tiradas.append((simular_dado(int(random.randrange(1000))),simular_dado(int(random.randrange(1000)))))\n",
    "    return tiradas\n",
    "\n",
    "\n",
    "\n",
    "\n",
    "print(\"Ejercicio 2 - Item A\")\n",
    "print(\"El espacio muestral es S={2,3,4,5,6,7,8,9,10,11,12}\")\n",
    "print(\"#############################################\")\n",
    "print(\"Ejercicio 2 - Item B\")\n",
    "print(simular_dados(10))\n",
    "print(\"#############################################\")\n",
    "print(\"Ejercicio 1 - Item C\")"
   ]
  },
  {
   "cell_type": "code",
   "execution_count": null,
   "metadata": {},
   "outputs": [],
   "source": []
  }
 ],
 "metadata": {
  "kernelspec": {
   "display_name": "Python 3",
   "language": "python",
   "name": "python3"
  },
  "language_info": {
   "codemirror_mode": {
    "name": "ipython",
    "version": 3
   },
   "file_extension": ".py",
   "mimetype": "text/x-python",
   "name": "python",
   "nbconvert_exporter": "python",
   "pygments_lexer": "ipython3",
   "version": "3.6.4"
  }
 },
 "nbformat": 4,
 "nbformat_minor": 2
}
