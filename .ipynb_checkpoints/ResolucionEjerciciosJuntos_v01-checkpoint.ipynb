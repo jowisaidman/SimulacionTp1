{
 "cells": [
  {
   "cell_type": "markdown",
   "metadata": {},
   "source": [
    "# Ejercicio 1"
   ]
  },
  {
   "cell_type": "markdown",
   "metadata": {},
   "source": [
    "## Item A\n",
    "\n",
    "Vamos a crear un algoritmo que sea un Generador Congruencial Lineal (GCL). El codigo utilizado es el siguiente"
   ]
  },
  {
   "cell_type": "code",
   "execution_count": 1,
   "metadata": {},
   "outputs": [],
   "source": [
    "import matplotlib.pyplot as plt\n",
    "import numpy as np"
   ]
  },
  {
   "cell_type": "code",
   "execution_count": 2,
   "metadata": {},
   "outputs": [],
   "source": [
    "SEMILLA = (99730+100866+96786+93762)//4\n",
    "\n",
    "def GCL(n,Xo,incremento, modulo, multiplicador):\n",
    "    \"\"\"Recibe como parametro cinco enteros, numero de iteraciones n, semilla Xo,\n",
    "    , incremnto, modulo y multiplicador. Imprime el valor de cada iteracion\"\"\"\n",
    "    resultados = [Xo]\n",
    "    for i in range(n):\n",
    "        resultados.append((resultados[i]*multiplicador + incremento) % modulo)   \n",
    "    resultados.pop(0)\n",
    "    return resultados"
   ]
  },
  {
   "cell_type": "markdown",
   "metadata": {},
   "source": [
    "Importamos la libreria necesaria y utilizamos la semilla que es el promedio de nuestro padrones. El resultado de los 10 primeros numeros son:"
   ]
  },
  {
   "cell_type": "code",
   "execution_count": 3,
   "metadata": {},
   "outputs": [
    {
     "name": "stdout",
     "output_type": "stream",
     "text": [
      "El numero 1 es: 614953939\n",
      "El numero 2 es: 3319310938\n",
      "El numero 3 es: 1608518515\n",
      "El numero 4 es: 512085690\n",
      "El numero 5 es: 3269962515\n",
      "El numero 6 es: 832498458\n",
      "El numero 7 es: 1617449651\n",
      "El numero 8 es: 1245314938\n",
      "El numero 9 es: 4153147987\n",
      "El numero 10 es: 921504730\n"
     ]
    }
   ],
   "source": [
    "resultado = GCL(10,SEMILLA,1664525, 2**32, 1013904223)\n",
    "for n in range(10):\n",
    "    print('El numero '+str(n+1)+' es: '+ str(resultado[n]))"
   ]
  },
  {
   "cell_type": "markdown",
   "metadata": {},
   "source": [
    "## Item B\n",
    "\n",
    "El algoritmo utilizado es similar al anterior, la diferencia es que vamos a utilizar el modulo del algoritmo para obtener un rango de numeros generados al azar acotado entre 0 y 1"
   ]
  },
  {
   "cell_type": "code",
   "execution_count": 4,
   "metadata": {},
   "outputs": [],
   "source": [
    "def GCL_con_rango(n,Xo,incremento, modulo, multiplicador):\n",
    "    \"\"\"Recibe como parametro cinco enteros, numero de iteraciones n, semilla Xo,\n",
    "    , incremnto, modulo y multiplicador. \n",
    "    Los numeros random generados estan entre 0 y 1.\n",
    "    Imprime el valor de cada iteracion\"\"\"\n",
    "    resultados = [Xo]\n",
    "    for i in range(n):\n",
    "        resultados.append(((resultados[i]*multiplicador + incremento) % modulo))  \n",
    "    resultados.pop(0)\n",
    "    for i in range(n):\n",
    "        resultados[i] = resultados[i]/modulo   \n",
    "    return resultados"
   ]
  },
  {
   "cell_type": "markdown",
   "metadata": {},
   "source": [
    "Mostramos tambien los primeros 10 numeros generados con esta modificacion."
   ]
  },
  {
   "cell_type": "code",
   "execution_count": 5,
   "metadata": {},
   "outputs": [
    {
     "name": "stdout",
     "output_type": "stream",
     "text": [
      "El numero 1 es: 0.14318012143485248\n",
      "El numero 2 es: 0.7728373021818697\n",
      "El numero 3 es: 0.37451240117661655\n",
      "El numero 4 es: 0.11922924080863595\n",
      "El numero 5 es: 0.7613474770914763\n",
      "El numero 6 es: 0.19383115181699395\n",
      "El numero 7 es: 0.3765918433200568\n",
      "El numero 8 es: 0.28994747856631875\n",
      "El numero 9 es: 0.966980119002983\n",
      "El numero 10 es: 0.21455453941598535\n"
     ]
    }
   ],
   "source": [
    "resultado = GCL_con_rango(10,SEMILLA,1664525, 2**32, 1013904223)\n",
    "for n in range(10):\n",
    "    print('El numero '+str(n+1)+' es: '+ str(resultado[n]))"
   ]
  },
  {
   "cell_type": "markdown",
   "metadata": {},
   "source": [
    "## Item C"
   ]
  },
  {
   "cell_type": "code",
   "execution_count": 6,
   "metadata": {},
   "outputs": [
    {
     "data": {
      "image/png": "[encoded data removed]",
      "text/plain": [
       "<Figure size 576x576 with 1 Axes>"
      ]
     },
     "metadata": {
      "needs_background": "light"
     },
     "output_type": "display_data"
    }
   ],
   "source": [
    "plt.rcParams[\"figure.figsize\"] = (8,8)\n",
    "plt.hist(GCL_con_rango(100000,SEMILLA,1664525, 2**32, 1013904223), histtype='bar',\n",
    "         edgecolor='darkblue',color='blue')\n",
    "title_obj = plt.title('Histograma de los primeros 100.000 resultados del punto B')                \n",
    "plt.getp(title_obj, 'text')            \n",
    "plt.setp(title_obj, color='blue', size=22)\n",
    "plt.xlabel('Resultado', fontsize=15).set_color(\"blue\")\n",
    "plt.ylabel('Frecuencia', fontsize=15).set_color(\"blue\")\n",
    "plt.xticks(color=\"blue\")\n",
    "plt.yticks(color=\"blue\")\n",
    "plt.show()"
   ]
  },
  {
   "cell_type": "markdown",
   "metadata": {},
   "source": [
    "Podemos observar que el algoritmo utilizado tiene una ditribucion similar a una uniforme por lo que consideramos que el GCL con los parametros dados genera numeros pseudoaleatorios bien distribuidos."
   ]
  },
  {
   "cell_type": "markdown",
   "metadata": {},
   "source": [
    "# Ejercicio 2"
   ]
  },
  {
   "cell_type": "markdown",
   "metadata": {},
   "source": [
    "## Item A"
   ]
  },
  {
   "cell_type": "markdown",
   "metadata": {},
   "source": [
    "El espacio muestral son todos los valores que puede tomar la variable aleatoria. En nuestro caso esta variable seria la suma del resultado de los dos dados, entonces nuestro espacio muestral sera: \n",
    "S={2,3,4,5,6,7,8,9,10,11,12}"
   ]
  },
  {
   "cell_type": "markdown",
   "metadata": {},
   "source": [
    "## Item B"
   ]
  },
  {
   "cell_type": "markdown",
   "metadata": {},
   "source": [
    "Utilizando las funciones del ejercicio 1, creamos una nueva funcion para simular la tirada de dos dados, recordamos:"
   ]
  },
  {
   "cell_type": "code",
   "execution_count": 7,
   "metadata": {},
   "outputs": [],
   "source": [
    "SEMILLA = (99730+100866+96786+93762)//4\n",
    "\n",
    "def GCL(n,Xo,incremento, modulo, multiplicador):\n",
    "    resultados = [Xo]\n",
    "    for i in range(n):\n",
    "        resultados.append((resultados[i]*multiplicador + incremento) % modulo)\n",
    "    resultados.pop(0)\n",
    "    return resultados\n",
    "\n",
    "def GCL_con_rango(n,Xo,incremento, modulo, multiplicador):\n",
    "    resultados = GCL(n,Xo,incremento,modulo,multiplicador);\n",
    "    for i in range(n):\n",
    "        resultados[i] = resultados[i]/modulo\n",
    "    return resultados"
   ]
  },
  {
   "cell_type": "markdown",
   "metadata": {},
   "source": [
    "Ahora, vamos a definir una funcion que asigne con igual probabilidad a un resultado del dado, como la distribucion es cuasi-uniforme asignamos un intervalo de igual tamaño, de este modo nos aseguramos que cada resultado sea equiprobable y que el dado sea justo."
   ]
  },
  {
   "cell_type": "code",
   "execution_count": 8,
   "metadata": {},
   "outputs": [],
   "source": [
    "def simular_dado(Xo):\n",
    "    if ( 0<Xo<=1/6 ):\n",
    "        return 1\n",
    "    elif ( 1/6<Xo<=2/6 ):\n",
    "        return 2\n",
    "    elif ( 2/6<Xo<=3/6 ):\n",
    "        return 3\n",
    "    elif ( 3/6<Xo<=4/6 ):\n",
    "        return 4\n",
    "    elif ( 4/6<Xo<=5/6 ):\n",
    "        return 5\n",
    "    else:\n",
    "        return 6\n",
    "    \n",
    "\n",
    "\n",
    "def simular_tiradas(n):\n",
    "    tiradas = GCL_con_rango(n,SEMILLA,1664525, 2**32, 1013904223)\n",
    "    dados = []\n",
    "    for i in range(0,n,2):\n",
    "        dados.append((simular_dado(tiradas[i]),simular_dado(tiradas[i+1])))\n",
    "    return dados"
   ]
  },
  {
   "cell_type": "markdown",
   "metadata": {},
   "source": [
    "Con las funciones definidas, simulamos las tiradas:"
   ]
  },
  {
   "cell_type": "code",
   "execution_count": 9,
   "metadata": {},
   "outputs": [],
   "source": [
    "tiradas = simular_tiradas(20000)"
   ]
  },
  {
   "cell_type": "markdown",
   "metadata": {},
   "source": [
    "Imprimimos los primeros 10 pares:"
   ]
  },
  {
   "cell_type": "code",
   "execution_count": 10,
   "metadata": {},
   "outputs": [
    {
     "name": "stdout",
     "output_type": "stream",
     "text": [
      "El par generado numero 1 es: (1, 5)\n",
      "El par generado numero 2 es: (3, 1)\n",
      "El par generado numero 3 es: (5, 2)\n",
      "El par generado numero 4 es: (3, 2)\n",
      "El par generado numero 5 es: (6, 2)\n",
      "El par generado numero 6 es: (4, 4)\n",
      "El par generado numero 7 es: (2, 4)\n",
      "El par generado numero 8 es: (2, 4)\n",
      "El par generado numero 9 es: (4, 2)\n",
      "El par generado numero 10 es: (4, 5)\n"
     ]
    }
   ],
   "source": [
    "for n in range(10):\n",
    "    print('El par generado numero '+str(n+1)+' es: '+ str(tiradas[n]))"
   ]
  },
  {
   "cell_type": "markdown",
   "metadata": {},
   "source": [
    "## Item C"
   ]
  },
  {
   "cell_type": "code",
   "execution_count": 11,
   "metadata": {},
   "outputs": [
    {
     "data": {
      "image/png": "[encoded data removed]",
      "text/plain": [
       "<Figure size 576x576 with 1 Axes>"
      ]
     },
     "metadata": {
      "needs_background": "light"
     },
     "output_type": "display_data"
    }
   ],
   "source": [
    "tiradas = simular_tiradas(20000)\n",
    "sumas = [tirada[0] + tirada[1] for tirada in tiradas]\n",
    "ticksx = list(range(14))\n",
    "title_obj = plt.title(\"Histograma de las tiradas del punto B\")                \n",
    "plt.getp(title_obj, 'text')            \n",
    "plt.setp(title_obj, color='blue', size=22)\n",
    "plt.xlabel('Suma de los dados', fontsize=15).set_color(\"blue\")\n",
    "plt.ylabel('Frequencia', fontsize=15).set_color(\"blue\")\n",
    "plt.xticks(ticksx, color=\"blue\")\n",
    "plt.yticks(color=\"blue\")\n",
    "bins = np.arange(1.5,13.5,1)\n",
    "plt.hist(sumas, bins=bins,histtype='bar', edgecolor='darkblue',color='blue');"
   ]
  },
  {
   "cell_type": "markdown",
   "metadata": {},
   "source": [
    "Como conclusion, podemos ver que el histograma obtenido es de dados equiprobables ya que los numeros de los extremos tienen menor cantidad de combinacioes para obtenerlos por lo que su probabilidad de aparicion es menor, entonces la cantidad de veces que salga tambien sera menor."
   ]
  },
  {
   "cell_type": "markdown",
   "metadata": {},
   "source": [
    "# Ejercicio 3"
   ]
  },
  {
   "cell_type": "markdown",
   "metadata": {},
   "source": [
    "## Item A\n",
    "\n",
    "Comenzamos importando las librerias necesarias y definiendo la funcion que vamos a graficar."
   ]
  },
  {
   "cell_type": "code",
   "execution_count": 12,
   "metadata": {},
   "outputs": [],
   "source": [
    "import numpy as np\n",
    "import matplotlib.pyplot as plt"
   ]
  },
  {
   "cell_type": "markdown",
   "metadata": {},
   "source": [
    "Se define la función que recibe un parámetro x y devuelve:\n",
    "$$\n",
    "    f_X(x) = \\begin{cases}\n",
    "                \\frac{13}{12\\pi} - \\frac{x^2}{\\pi^3},\\quad -\\frac{\\pi}{2} \\leq x \\leq \\frac{\\pi}{2} \\\\\n",
    "                0, \\quad \\text{otro caso }\\\\\n",
    "            \\end{cases}\n",
    "$$"
   ]
  },
  {
   "cell_type": "code",
   "execution_count": 13,
   "metadata": {},
   "outputs": [],
   "source": [
    "def f(x):\n",
    "    if (x < (-np.pi / 2)) or (x > np.pi/2):\n",
    "        return 0.\n",
    "    else:\n",
    "        return (13/(12*np.pi) - (1/(np.pi**3)) * x**2)\n",
    "\n",
    "f = np.vectorize(f)"
   ]
  },
  {
   "cell_type": "markdown",
   "metadata": {},
   "source": [
    "El grafico de la funcion densidad es el siguiente:"
   ]
  },
  {
   "cell_type": "code",
   "execution_count": 14,
   "metadata": {},
   "outputs": [
    {
     "data": {
      "image/png": "[encoded data removed]",
      "text/plain": [
       "<Figure size 576x360 with 1 Axes>"
      ]
     },
     "metadata": {
      "needs_background": "light"
     },
     "output_type": "display_data"
    }
   ],
   "source": [
    "plt.rcParams[\"figure.figsize\"] = (8,8)\n",
    "dt = 0.01\n",
    "plt.figure(figsize=[8,5])\n",
    "x = np.arange(-np.pi/2,np.pi/2,dt)\n",
    "plt.plot(x,f(x))\n",
    "\n",
    "plt.axvline(-np.pi/2,0,f(-np.pi/2)/0.5)\n",
    "plt.axvline(np.pi/2,0,f(np.pi/2)/0.5)\n",
    "\n",
    "plt.axis([-2,2,0,0.5])\n",
    "title_obj = plt.title(\"Densidad de X\")                \n",
    "plt.getp(title_obj, 'text')            \n",
    "plt.setp(title_obj, color='blue', size=22)\n",
    "plt.xlabel('x', fontsize=15).set_color(\"blue\")\n",
    "plt.ylabel('f(x)', fontsize=15).set_color(\"blue\")\n",
    "plt.xticks(color=\"blue\")\n",
    "plt.yticks(color=\"blue\")\n",
    "\n",
    "\n",
    "plt.grid(True)"
   ]
  },
  {
   "cell_type": "markdown",
   "metadata": {},
   "source": [
    "## Item B"
   ]
  },
  {
   "cell_type": "markdown",
   "metadata": {},
   "source": [
    "La funcion de densidad de probabilidad es:\n",
    "<br>\n",
    "$$\n",
    "    f_X(x) = \\begin{cases}\n",
    "                \\frac{13}{12\\pi} - \\frac{x^2}{\\pi^3},\\quad -\\frac{\\pi}{2} \\leq x \\leq \\frac{\\pi}{2} \\\\\n",
    "                0, \\quad \\text{otro caso }\\\\\n",
    "            \\end{cases}\n",
    "$$\n",
    "<br>\n",
    "integramos la funcion para encontrar la funcion de probabilidad acumulada y luego su inversa:\n",
    "<br><br>\n",
    "$$\n",
    "    F_X(x) = \\int_{-\\infty}^{x}f_X(t) dt = \\int_{-\\frac{\\pi}{2}}^{x} \\frac{13}{12\\pi} - \\frac{t^2}{\\pi^3} dt\\\\\n",
    "$$\n",
    "<br>\n",
    "$$\n",
    "    \\implies F_X(x) =  \\frac{13 t}{12\\pi} - \\frac{t^3}{3\\pi^3} \\big|_{\\frac{-\\pi}{2}}^x \\\\\n",
    "$$\n",
    "<br>\n",
    "$$\n",
    "     \\implies F_X(x) = \\frac{13 x}{12\\pi} - \\frac{x^3}{3\\pi^3} + \\frac{13}{24} - \\frac{1}{24} = \\frac{13 x}{12\\pi} - \\frac{x^3}{3\\pi^3} + \\frac{1}{2} \n",
    "$$\n",
    "<br>\n",
    "La función de distribución es un polinomio de grado 3. Su inversa es muy difícil de obtener analíticamente. Por lo tanto, intentarmos aproximarla numéricamente, ya que con eso alcanzará para cumplir con el objetivo del ejercicio de generar la distribución.\n"
   ]
  },
  {
   "cell_type": "code",
   "execution_count": 15,
   "metadata": {},
   "outputs": [],
   "source": [
    "def F(x):\n",
    "    if (x < -np.pi/2):\n",
    "        return 0.\n",
    "    if (x > np.pi/2):\n",
    "        return 1.\n",
    "    return (13*x / (12*np.pi)) - (x**3)/(3*np.pi**3) + 1/2\n",
    "\n",
    "F = np.vectorize(F)\n",
    "\n",
    "dt=0.01\n",
    "rango_muestras = np.arange(-np.pi/2,np.pi,dt)\n",
    "muestras = F(rango_muestras)"
   ]
  },
  {
   "cell_type": "markdown",
   "metadata": {},
   "source": [
    "Ahora para la inversa se invierte el rol de los ejes: el eje X en la distribución pasa a ser el eje Y de la inversa y viceversa. \n",
    "Luego, para calcular la inversa en un determinado punto u, se interpolan las muestras tomadas entre $t_1$ y $t_2$, siendo $F_X(t_1) < u $ y $F_X(t_2) >= u$, de modo que \n",
    "<br><br>\n",
    "$$\n",
    "\\hat{F_X^{-1}}(u) = t_1 + dt  \\frac{u - F_X(t_1)}{F_X(t_2) - F_X(t_1)}\n",
    "$$"
   ]
  },
  {
   "cell_type": "code",
   "execution_count": 16,
   "metadata": {},
   "outputs": [],
   "source": [
    "def Finv(u):\n",
    "    t = -np.pi/2\n",
    "    i=1\n",
    "    m = muestras[1]\n",
    "    m_ant = muestras[0]\n",
    "    while (m < u):\n",
    "        t+=dt\n",
    "        m_ant = m\n",
    "        i+=1\n",
    "        m = muestras[i]\n",
    "        \n",
    "    inv = (t-dt) + dt*(u-m_ant)/(m - m_ant)\n",
    "    return inv\n",
    "\n",
    "Finv = np.vectorize(Finv)"
   ]
  },
  {
   "cell_type": "markdown",
   "metadata": {},
   "source": [
    "Graficamos la funcion de probabilidad acumulada:"
   ]
  },
  {
   "cell_type": "code",
   "execution_count": 17,
   "metadata": {},
   "outputs": [
    {
     "data": {
      "image/png": "[encoded data removed]",
      "text/plain": [
       "<Figure size 720x720 with 1 Axes>"
      ]
     },
     "metadata": {
      "needs_background": "light"
     },
     "output_type": "display_data"
    }
   ],
   "source": [
    "plt.figure(figsize=[10,10])\n",
    "x = np.arange(-2,2,dt)\n",
    "\n",
    "plt.subplot(211)\n",
    "plt.plot(x,F(x))\n",
    "plt.axis([-2,2,0,1.5])\n",
    "title_obj = plt.title(\"Distribución de X\")                \n",
    "plt.getp(title_obj, 'text')            \n",
    "plt.setp(title_obj, color='blue', size=22)\n",
    "plt.xlabel(\"x\", fontsize=15).set_color(\"blue\")\n",
    "plt.ylabel(\"$F_X(x)$\", fontsize=15).set_color(\"blue\")\n",
    "plt.xticks(color=\"blue\")\n",
    "plt.yticks(color=\"blue\")\n",
    "\n",
    "plt.grid(True)"
   ]
  },
  {
   "cell_type": "markdown",
   "metadata": {},
   "source": [
    "Graficamos la inversa de la funcion de probabilidad acumulada:"
   ]
  },
  {
   "cell_type": "code",
   "execution_count": 18,
   "metadata": {},
   "outputs": [
    {
     "data": {
      "image/png": "[encoded data removed]",
      "text/plain": [
       "<Figure size 720x720 with 1 Axes>"
      ]
     },
     "metadata": {
      "needs_background": "light"
     },
     "output_type": "display_data"
    }
   ],
   "source": [
    "plt.figure(figsize=[10,10])\n",
    "u = np.arange(0,1,0.01)\n",
    "plt.subplot(212)\n",
    "plt.plot(u,Finv(u))\n",
    "plt.axis([0,1,-np.pi/2,np.pi/2])\n",
    "\n",
    "title_obj = plt.title(\"Inversa de $F_X(x)$\")                \n",
    "plt.getp(title_obj, 'text')            \n",
    "plt.setp(title_obj, color='blue', size=22)\n",
    "plt.xlabel(\"x\", fontsize=15).set_color(\"blue\")\n",
    "plt.ylabel(\"$F_X^{-1}(x)$\", fontsize=15).set_color(\"blue\")\n",
    "plt.xticks(color=\"blue\")\n",
    "plt.yticks(color=\"blue\")\n",
    "\n",
    "\n",
    "plt.grid(True)"
   ]
  },
  {
   "cell_type": "markdown",
   "metadata": {},
   "source": [
    "## Item C"
   ]
  },
  {
   "cell_type": "markdown",
   "metadata": {},
   "source": [
    "Generamos 10^5 muestras de U uniforme entre 0 y 1, utilizando el generador aleatorio del ejercicio 1.\n",
    "Por el método de transformación inversa sabemos que, con U uniforme entre 0 y 1,\n",
    "$$\n",
    "    F_X^{-1}(U) \\sim X\n",
    "$$\n",
    "Por esta razón, calculamos la distribución inversa de X para los valores generados por el generador pseudo aleatorio, esperando conseguir la distribución propuesta."
   ]
  },
  {
   "cell_type": "code",
   "execution_count": 19,
   "metadata": {},
   "outputs": [],
   "source": [
    "N = int(1e5)\n",
    "U = GCL_con_rango(N,SEMILLA,1664525, 2**32, 1013904223)\n",
    "Xgen = Finv(U)"
   ]
  },
  {
   "cell_type": "markdown",
   "metadata": {},
   "source": [
    "## Item D"
   ]
  },
  {
   "cell_type": "code",
   "execution_count": 1,
   "metadata": {},
   "outputs": [
    {
     "ename": "NameError",
     "evalue": "name 'plt' is not defined",
     "output_type": "error",
     "traceback": [
      "\u001b[0;31m---------------------------------------------------------------------------\u001b[0m",
      "\u001b[0;31mNameError\u001b[0m                                 Traceback (most recent call last)",
      "\u001b[0;32m<ipython-input-1-e93d46f3a67e>\u001b[0m in \u001b[0;36m<module>\u001b[0;34m()\u001b[0m\n\u001b[1;32m      1\u001b[0m \u001b[0mdt\u001b[0m \u001b[0;34m=\u001b[0m \u001b[0;36m0.01\u001b[0m\u001b[0;34m\u001b[0m\u001b[0m\n\u001b[0;32m----> 2\u001b[0;31m \u001b[0mplt\u001b[0m\u001b[0;34m.\u001b[0m\u001b[0mfigure\u001b[0m\u001b[0;34m(\u001b[0m\u001b[0mfigsize\u001b[0m\u001b[0;34m=\u001b[0m\u001b[0;34m[\u001b[0m\u001b[0;36m8\u001b[0m\u001b[0;34m,\u001b[0m\u001b[0;36m5\u001b[0m\u001b[0;34m]\u001b[0m\u001b[0;34m)\u001b[0m\u001b[0;34m\u001b[0m\u001b[0m\n\u001b[0m\u001b[1;32m      3\u001b[0m \u001b[0mx\u001b[0m \u001b[0;34m=\u001b[0m \u001b[0mnp\u001b[0m\u001b[0;34m.\u001b[0m\u001b[0marange\u001b[0m\u001b[0;34m(\u001b[0m\u001b[0;34m-\u001b[0m\u001b[0mnp\u001b[0m\u001b[0;34m.\u001b[0m\u001b[0mpi\u001b[0m\u001b[0;34m/\u001b[0m\u001b[0;36m2\u001b[0m\u001b[0;34m,\u001b[0m\u001b[0mnp\u001b[0m\u001b[0;34m.\u001b[0m\u001b[0mpi\u001b[0m\u001b[0;34m/\u001b[0m\u001b[0;36m2\u001b[0m\u001b[0;34m,\u001b[0m\u001b[0mdt\u001b[0m\u001b[0;34m)\u001b[0m\u001b[0;34m\u001b[0m\u001b[0m\n\u001b[1;32m      4\u001b[0m \u001b[0mplt\u001b[0m\u001b[0;34m.\u001b[0m\u001b[0mplot\u001b[0m\u001b[0;34m(\u001b[0m\u001b[0mx\u001b[0m\u001b[0;34m,\u001b[0m\u001b[0mf\u001b[0m\u001b[0;34m(\u001b[0m\u001b[0mx\u001b[0m\u001b[0;34m)\u001b[0m\u001b[0;34m,\u001b[0m\u001b[0;34m'r'\u001b[0m\u001b[0;34m,\u001b[0m\u001b[0mlabel\u001b[0m\u001b[0;34m=\u001b[0m\u001b[0;34m\"Densidad de X\"\u001b[0m\u001b[0;34m)\u001b[0m\u001b[0;34m\u001b[0m\u001b[0m\n\u001b[1;32m      5\u001b[0m \u001b[0;34m\u001b[0m\u001b[0m\n",
      "\u001b[0;31mNameError\u001b[0m: name 'plt' is not defined"
     ]
    }
   ],
   "source": [
    "dt = 0.01\n",
    "plt.figure(figsize=[8,5])\n",
    "x = np.arange(-np.pi/2,np.pi/2,dt)\n",
    "plt.plot(x,f(x),'r',label=\"Densidad de X\")\n",
    "\n",
    "plt.axvline(-np.pi/2,0,f(-np.pi/2)/0.5,c='r')\n",
    "plt.axvline(np.pi/2,0,f(np.pi/2)/0.5,c='r')\n",
    "\n",
    "plt.axis([-2,2,0,0.5])\n",
    "\n",
    "title_obj = plt.title(\"Histograma normalizado de variables generadas\")                \n",
    "plt.getp(title_obj, 'text')            \n",
    "plt.setp(title_obj, color='blue', size=22)\n",
    "plt.xlabel(\"x\", fontsize=15).set_color(\"blue\")\n",
    "plt.ylabel(\"f(x)\", fontsize=15).set_color(\"blue\")\n",
    "plt.xticks(color=\"blue\")\n",
    "plt.yticks(color=\"blue\")\n",
    "\n",
    "plt.grid(True)\n",
    "hist = plt.hist(Xgen,density=True,bins='sturges',alpha=0.5,label=\"Frecuencias normalizadas\")\n",
    "\n",
    "plt.legend()\n",
    "\n",
    "\n",
    "plt.show()"
   ]
  },
  {
   "cell_type": "markdown",
   "metadata": {},
   "source": [
    "# Ejercicio 4"
   ]
  },
  {
   "cell_type": "markdown",
   "metadata": {},
   "source": [
    "## Item A , B y C"
   ]
  },
  {
   "cell_type": "markdown",
   "metadata": {},
   "source": [
    "En primer lugar importamos las funciones necesarias y realizamos un gráfico de como es la función de densidad de la variable que queremos generar."
   ]
  },
  {
   "cell_type": "code",
   "execution_count": 21,
   "metadata": {},
   "outputs": [],
   "source": [
    "import numpy as np\n",
    "import matplotlib.pyplot as plt\n",
    "from scipy.stats import norm"
   ]
  },
  {
   "cell_type": "code",
   "execution_count": 22,
   "metadata": {},
   "outputs": [
    {
     "data": {
      "image/png": "[encoded data removed]",
      "text/plain": [
       "<Figure size 576x576 with 1 Axes>"
      ]
     },
     "metadata": {
      "needs_background": "light"
     },
     "output_type": "display_data"
    }
   ],
   "source": [
    "mu = 25\n",
    "sigma = 2\n",
    "x = np.arange(mu-3*sigma,mu+3*sigma,0.001)\n",
    "xticks = np.arange(19,31,1)\n",
    "normal = norm(mu,sigma)\n",
    "plot = plt.plot(x,normal.pdf(x), color = 'blue')\n",
    "title_obj = plt.title(\"Densidad de $X\\sim N(\\mu,\\sigma^2), \\mu=25,\\sigma=2$\")                \n",
    "plt.getp(title_obj, 'text')            \n",
    "plt.setp(title_obj, color='blue', size=22)\n",
    "plt.xlabel(\"x\", fontsize=15).set_color(\"blue\")\n",
    "plt.ylabel(\"f(x)\", fontsize=15).set_color(\"blue\")\n",
    "plt.xticks(xticks, color=\"blue\")\n",
    "plt.yticks(color=\"blue\")\n",
    "\n",
    "plt.grid(True)"
   ]
  },
  {
   "cell_type": "markdown",
   "metadata": {},
   "source": [
    "Considerando que para una distribución normal aproximadamente el 99.7% de la probabilidad se concentra en el intervalo $[\\mu-3\\sigma,\\mu+3\\sigma]$, supondremos para nuestro algoritmo que la variable aleatoria está restringida a ese intervalo ([19,31] con los datos del enunciado).\n",
    "Al poder acotar los valores del dominio de la gaussiana y al conocer el valor máximo de su densidad, podemos implementar el generador.\n",
    "\n",
    "Implementamos el generador de la variable normal mediante el método de aceptación y rechazo."
   ]
  },
  {
   "cell_type": "code",
   "execution_count": 23,
   "metadata": {},
   "outputs": [],
   "source": [
    "def aceptacionRechazo(n):\n",
    "    gen = np.zeros(n)\n",
    "    for i in range(0,n):\n",
    "        accept = False\n",
    "        while not accept:\n",
    "            U1 = np.random.rand()*6*sigma + mu - 3*sigma\n",
    "            U2 = np.random.rand()*maximo\n",
    "            if (U2 < normal.pdf(U1)):\n",
    "                gen[i] = U1\n",
    "                accept = True\n",
    "    return gen"
   ]
  },
  {
   "cell_type": "code",
   "execution_count": 24,
   "metadata": {},
   "outputs": [],
   "source": [
    "maximo = normal.pdf(mu)\n",
    "N = int(1e5)\n",
    "generados = aceptacionRechazo(N)"
   ]
  },
  {
   "cell_type": "code",
   "execution_count": 25,
   "metadata": {},
   "outputs": [
    {
     "data": {
      "image/png": "[encoded data removed]",
      "text/plain": [
       "<Figure size 576x432 with 1 Axes>"
      ]
     },
     "metadata": {
      "needs_background": "light"
     },
     "output_type": "display_data"
    }
   ],
   "source": [
    "plt.figure(figsize=[8,6])\n",
    "x = np.arange(mu-3*sigma,mu+3*sigma,0.001)\n",
    "xticks = np.arange(19,31,1)\n",
    "normal = norm(mu,sigma)\n",
    "plot = plt.plot(x,normal.pdf(x),c='r',label=\"Densidad teórica\")\n",
    "plt.xticks(xticks)\n",
    "plt.hist(generados,bins=20,density=True,bins='sturges',color='b',alpha=0.5,\n",
    "         label=\"Frecuencia muestral\\nnormalizada\")\n",
    "\n",
    "title_obj = plt.title(\"Densidad teórica y frecuencia muestral normalizada\")                \n",
    "plt.getp(title_obj, 'text')            \n",
    "plt.setp(title_obj, color='blue', size=22)\n",
    "plt.xticks(xticks, color=\"blue\")\n",
    "plt.yticks(color=\"blue\")\n",
    "\n",
    "\n",
    "plt.legend(loc='best')\n",
    "plt.grid(True)\n",
    "plt.show()"
   ]
  },
  {
   "cell_type": "markdown",
   "metadata": {},
   "source": [
    "## Item D\n",
    "\n",
    "Realizamos las comparaciones pedidas"
   ]
  },
  {
   "cell_type": "code",
   "execution_count": 26,
   "metadata": {},
   "outputs": [
    {
     "name": "stdout",
     "output_type": "stream",
     "text": [
      "Media muestral: 25.00481.\n",
      "Varianza muestral: 3.89525\n"
     ]
    }
   ],
   "source": [
    "media_muestral = sum(generados)/N\n",
    "varianza_muestral = sum((generados - media_muestral)**2) / N\n",
    "\n",
    "print(\"Media muestral: %5.5f.\"%media_muestral)\n",
    "print(\"Varianza muestral: %5.5f\"%varianza_muestral)"
   ]
  },
  {
   "cell_type": "code",
   "execution_count": 27,
   "metadata": {},
   "outputs": [
    {
     "name": "stdout",
     "output_type": "stream",
     "text": [
      "Error relativo en la media muestral: 0.00019.\n",
      "Error relativo en la varianza muestral: 0.02619\n"
     ]
    }
   ],
   "source": [
    "Er_media = abs(media_muestral - mu) / mu\n",
    "Er_var = abs(varianza_muestral - sigma**2) / sigma**2\n",
    "print(\"Error relativo en la media muestral: %5.5f.\"%Er_media)\n",
    "print(\"Error relativo en la varianza muestral: %5.5f\"%Er_var)"
   ]
  },
  {
   "cell_type": "markdown",
   "metadata": {},
   "source": [
    "# Ejercicio 5"
   ]
  },
  {
   "cell_type": "markdown",
   "metadata": {},
   "source": [
    "Utilizamos la funcion GCL_con_rango(n,Xo,incremento, modulo, multiplicador) definida en el ejercicio 1 e importamos las librerias necesarias"
   ]
  },
  {
   "cell_type": "code",
   "execution_count": 28,
   "metadata": {},
   "outputs": [],
   "source": [
    "import matplotlib.pyplot as plt\n",
    "import numpy as np\n",
    "from scipy.stats import chi2, chisquare"
   ]
  },
  {
   "cell_type": "code",
   "execution_count": 29,
   "metadata": {},
   "outputs": [],
   "source": [
    "SEMILLA = ((99730+100866+96786+93762)//4)\n",
    "def obtener_tam_gap_test(muestra):\n",
    "    '''Dada una muestra de numeros aleatorios cuenta cuantos nuemeros seguidos\n",
    "    pertenecen al intervalo [0.2;0.5] y devuelve un arreglo'''\n",
    "    repeticiones = 0\n",
    "    frequencias = []\n",
    "    for n in range(len(muestra)):\n",
    "        if (0.2 <= muestra[n] <= 0.5 and repeticiones>=0):\n",
    "            frequencias.append(repeticiones)\n",
    "            repeticiones = 0\n",
    "            continue\n",
    "        repeticiones+=1\n",
    "    if (repeticiones>0):\n",
    "        frequencias.append(repeticiones)\n",
    "    return frequencias"
   ]
  },
  {
   "cell_type": "code",
   "execution_count": 30,
   "metadata": {},
   "outputs": [],
   "source": [
    "def obtener_frec_tam_gap_observadas(freq_gap_test):\n",
    "    '''Dada una lista cuenta la cantidad de elementos repetidos en un diccionario'''\n",
    "    frequencias = {i:freq_gap_test.count(i) for i in freq_gap_test}\n",
    "    return frequencias"
   ]
  },
  {
   "cell_type": "code",
   "execution_count": 31,
   "metadata": {},
   "outputs": [],
   "source": [
    "muestra = GCL_con_rango(100000,SEMILLA,1664525, 2**32, 1013904223)"
   ]
  },
  {
   "cell_type": "code",
   "execution_count": 32,
   "metadata": {},
   "outputs": [],
   "source": [
    "def prob_geom(x):\n",
    "    '''Funcion geometrica para obtener las probabilidades esperadas'''\n",
    "    p = 0.3\n",
    "    q = ((1-p)**(x-1))*p\n",
    "    return q"
   ]
  },
  {
   "cell_type": "markdown",
   "metadata": {},
   "source": [
    "Buscamos el estadistico con la formula vista en la practica"
   ]
  },
  {
   "cell_type": "code",
   "execution_count": 33,
   "metadata": {},
   "outputs": [],
   "source": [
    "def chisquare_test_geom(frecuencias_obs): \n",
    "    estadistico = 0\n",
    "    n = sum(list(frecuencias_obs.values()))\n",
    "    for tam in frecuencias_obs:\n",
    "        p = prob_geom(tam)\n",
    "        estadistico += ((frecuencias_obs.get(tam)-n*p)**2) / (n*p)\n",
    "    return estadistico"
   ]
  },
  {
   "cell_type": "markdown",
   "metadata": {},
   "source": [
    "Contamos los gaps y la cantidad de veces que halla aparecido un gap de tamaño n."
   ]
  },
  {
   "cell_type": "code",
   "execution_count": 34,
   "metadata": {},
   "outputs": [
    {
     "name": "stdout",
     "output_type": "stream",
     "text": [
      "[2, 3, 0, 1, 4]\n",
      "{2: 4384, 3: 3065, 0: 8963, 1: 6444, 4: 2101, 16: 26, 5: 1515, 11: 180, 7: 721, 9: 356, 13: 91, 6: 1061, 8: 526, 10: 280, 15: 39, 12: 136, 14: 57, 17: 29, 19: 13, 18: 12, 20: 7, 24: 1, 27: 2, 23: 1, 21: 2, 22: 2, 38: 1, 32: 1, 25: 1}\n"
     ]
    }
   ],
   "source": [
    "tam_gap_test = obtener_tam_gap_test(muestra)\n",
    "print(tam_gap_test[0:5])\n",
    "\n",
    "frequencias_tam_gap_observadas = obtener_frec_tam_gap_observadas(tam_gap_test)\n",
    "print(frequencias_tam_gap_observadas)"
   ]
  },
  {
   "cell_type": "code",
   "execution_count": 35,
   "metadata": {},
   "outputs": [
    {
     "name": "stdout",
     "output_type": "stream",
     "text": [
      "[( 2, 4384) ( 3, 3065) ( 0, 8963) ( 1, 6444) ( 4, 2101) (16,   26)\n",
      " ( 5, 1515) (11,  180) ( 7,  721) ( 9,  356) (13,   91) ( 6, 1061)\n",
      " ( 8,  526) (10,  280) (15,   39) (12,  136) (14,   57) (17,   29)\n",
      " (19,   13) (18,   12) (20,    7) (24,    1) (27,    2) (23,    1)\n",
      " (21,    2) (22,    2) (38,    1) (32,    1) (25,    1)]\n",
      "array([( 2, 4384), ( 3, 3065), ( 0, 8963), ( 1, 6444), ( 4, 2101),\n",
      "       (16,   26), ( 5, 1515), (11,  180), ( 7,  721), ( 9,  356),\n",
      "       (13,   91), ( 6, 1061), ( 8,  526), (10,  280), (15,   39),\n",
      "       (12,  136), (14,   57), (17,   29), (19,   13), (18,   12),\n",
      "       (20,    7), (24,    1), (27,    2), (23,    1), (21,    2),\n",
      "       (22,    2), (38,    1), (32,    1), (25,    1)],\n",
      "      dtype=[('tam_gap', '<i8'), ('cant_repeticiones', '<i8')])\n"
     ]
    }
   ],
   "source": [
    "names = ['tam_gap','cant_repeticiones']\n",
    "formats = ['i8','i8']\n",
    "dtype = dict(names = names, formats=formats)\n",
    "frequencias = np.array(list(frequencias_tam_gap_observadas.items()), dtype=dtype)\n",
    "print(frequencias)\n",
    "print(repr(frequencias))"
   ]
  },
  {
   "cell_type": "markdown",
   "metadata": {},
   "source": [
    "# Test estadistico\n",
    "\n",
    "Aplicar un gap test al generador congruencial lineal implementado en el ejercicio 1 utilizando el intervalo [0,2 - 0,5].\n",
    "Analizar el resultado obtenido, e indicar si la distribución de probabilidades pasa o no el test.\n",
    "Considerar un nivel de significación del 1%."
   ]
  },
  {
   "cell_type": "markdown",
   "metadata": {},
   "source": [
    "Buscamos el estadistico"
   ]
  },
  {
   "cell_type": "code",
   "execution_count": 36,
   "metadata": {},
   "outputs": [
    {
     "data": {
      "text/plain": [
       "3937.685890226105"
      ]
     },
     "execution_count": 36,
     "metadata": {},
     "output_type": "execute_result"
    }
   ],
   "source": [
    "estadistico = chisquare_test_geom(frequencias_tam_gap_observadas)\n",
    "estadistico"
   ]
  },
  {
   "cell_type": "code",
   "execution_count": 37,
   "metadata": {},
   "outputs": [
    {
     "name": "stdout",
     "output_type": "stream",
     "text": [
      "[4384, 3065, 8963, 6444, 2101, 26, 1515, 180, 721, 356, 91, 1061, 526, 280, 39, 136, 57, 29, 13, 12, 7, 1, 2, 1, 2, 2, 1, 1, 1]\n",
      "[12864.0, 9005.0, 6304.0, 4412.0, 3089.0, 2162.0, 1513.0, 1059.0, 742.0, 519.0, 363.0, 254.0, 178.0, 125.0, 87.0, 61.0, 43.0, 30.0, 21.0, 15.0, 10.0, 7.0, 5.0, 4.0, 2.0, 2.0, 1.0, 1.0, 1.0]\n"
     ]
    }
   ],
   "source": [
    "frecuencias_observadas = list(frequencias_tam_gap_observadas.values())\n",
    "print(frecuencias_observadas)\n",
    "\n",
    "frecuencias_esperadas = []\n",
    "for i in range(len(frecuencias_observadas)):\n",
    "    frecuencias_esperadas.append(round(prob_geom(i) * sum(frecuencias_observadas), 0))\n",
    "\n",
    "print(frecuencias_esperadas)"
   ]
  },
  {
   "cell_type": "code",
   "execution_count": 38,
   "metadata": {},
   "outputs": [
    {
     "data": {
      "text/plain": [
       "Power_divergenceResult(statistic=18550.766078353827, pvalue=0.0)"
      ]
     },
     "execution_count": 38,
     "metadata": {},
     "output_type": "execute_result"
    }
   ],
   "source": [
    "chisquare(f_obs = frecuencias_observadas, f_exp = frecuencias_esperadas)"
   ]
  },
  {
   "cell_type": "markdown",
   "metadata": {},
   "source": [
    "Dado que el estadistico calculado D2 > estadistico teorico Dalfa\n",
    "\n",
    "D2 = 3937.68589\n",
    "\n",
    "dalfa = 3873.3180925\n",
    "\n",
    "### Rechazamos el test."
   ]
  },
  {
   "cell_type": "code",
   "execution_count": 39,
   "metadata": {},
   "outputs": [
    {
     "data": {
      "image/png": "[encoded data removed]",
      "text/plain": [
       "<Figure size 720x720 with 1 Axes>"
      ]
     },
     "metadata": {
      "needs_background": "light"
     },
     "output_type": "display_data"
    }
   ],
   "source": [
    "ticksx = list(range(41))\n",
    "plt.rcParams[\"figure.figsize\"] = (10,10)\n",
    "bins = np.arange(-0.5,40.5,1)\n",
    "plt.hist(tam_gap_test, edgecolor='k', bins=bins)\n",
    "plt.xlim(left=-1)\n",
    "plt.xticks(ticksx, color=\"green\")\n",
    "plt.title('Frecuencias del gap-test\\n', fontsize=18).set_color(\"green\")\n",
    "plt.xlabel('Cantidad de veces seguidas en las que no se genero un numero entre 0.2 y 0.5', fontsize=15).set_color(\"green\")\n",
    "plt.ylabel('Frecuencia', fontsize=15).set_color(\"green\")\n",
    "plt.grid();"
   ]
  },
  {
   "cell_type": "markdown",
   "metadata": {},
   "source": [
    "# Ejercicio 6"
   ]
  },
  {
   "cell_type": "markdown",
   "metadata": {},
   "source": [
    "Utilizamos las funciones definidas en el ejercicio 2"
   ]
  },
  {
   "cell_type": "code",
   "execution_count": 40,
   "metadata": {},
   "outputs": [],
   "source": [
    "from scipy.stats import chi2,chisquare\n",
    "import random"
   ]
  },
  {
   "cell_type": "code",
   "execution_count": 41,
   "metadata": {},
   "outputs": [],
   "source": [
    "def GCL_con_rango(n,Xo,incremento, modulo, multiplicador):\n",
    "    \"\"\"Recibe como parametro cinco enteros, numero de iteraciones n, semilla Xo,\n",
    "    , incremnto, modulo y multiplicador. \n",
    "    Los numeros random generados estan entre 0 y 1.\n",
    "    Imprime el valor de cada iteracion\"\"\"\n",
    "    resultados = [Xo]\n",
    "    for i in range(n):\n",
    "        resultados.append(((resultados[i]*multiplicador + incremento) % modulo))  \n",
    "    resultados.pop(0)\n",
    "    for i in range(n):\n",
    "        resultados[i] = resultados[i]/modulo   \n",
    "    return resultados\n",
    "\n",
    "def simular_dado(Xo):\n",
    "    resultado_dado=GCL_con_rango(10,Xo,1664525, 2**32, 1013904223)[0]\n",
    "    if ( 0<resultado_dado<=1/6 ):\n",
    "        resultado_dado=1\n",
    "    elif ( 1/6<resultado_dado<=2/6 ):\n",
    "        resultado_dado=2\n",
    "    elif ( 2/6<resultado_dado<=3/6 ):\n",
    "        resultado_dado=3\n",
    "    elif ( 3/6<resultado_dado<=4/6 ):\n",
    "        resultado_dado=4\n",
    "    elif ( 4/6<resultado_dado<=5/6 ):\n",
    "        resultado_dado=5\n",
    "    else:\n",
    "        resultado_dado=6\n",
    "    return resultado_dado\n",
    "\n",
    "\n",
    "def simular_dados(n):\n",
    "    tiradas=[]\n",
    "    for i in range(1,n+1):\n",
    "        tiradas.append((simular_dado(int(random.randrange(1000))),simular_dado(int(random.randrange(1000)))))\n",
    "    return tiradas"
   ]
  },
  {
   "cell_type": "markdown",
   "metadata": {},
   "source": [
    "Con el generador de numeros pseudo aleatorios del punto 2, generamos 10^5 tiradas de 2 dados. Luego, a cada tirada le calculamos el resultado como la suma de ambos dados. A partir de ese cálculo, generamos un histograma que muestre las ocurrencias de cada resultado posible."
   ]
  },
  {
   "cell_type": "code",
   "execution_count": 42,
   "metadata": {},
   "outputs": [],
   "source": [
    "N = int(1e5)\n",
    "tiradas = list(map(lambda x: x[0]+x[1], simular_dados(N)))"
   ]
  },
  {
   "cell_type": "code",
   "execution_count": 43,
   "metadata": {},
   "outputs": [
    {
     "data": {
      "image/png": "[encoded data removed]",
      "text/plain": [
       "<Figure size 720x720 with 1 Axes>"
      ]
     },
     "metadata": {
      "needs_background": "light"
     },
     "output_type": "display_data"
    }
   ],
   "source": [
    "bins = np.arange(1.5,13.5,1)\n",
    "hist = plt.hist(tiradas,bins=bins,histtype='bar', edgecolor='darkblue',color='blue')\n",
    "title_obj = plt.title(\"Histograma de las Tiradas Obtenidas\")                \n",
    "plt.getp(title_obj, 'text')            \n",
    "plt.setp(title_obj, color='blue', size=22)\n",
    "plt.xticks(np.arange(2,13,1),color=\"blue\")\n",
    "plt.yticks(color=\"blue\")\n",
    "plt.xlabel(\"Suma\", fontsize=15).set_color(\"blue\")\n",
    "plt.ylabel(\"Frequencia\", fontsize=15).set_color(\"blue\");"
   ]
  },
  {
   "cell_type": "markdown",
   "metadata": {},
   "source": [
    "Las frecuencias normalizadas que se desearían para cada posible valor de una tirada están la siguiente tabla\n",
    "\n",
    "<img src=\"./dados.jpg\" style=\"width:500px\"/>"
   ]
  },
  {
   "cell_type": "markdown",
   "metadata": {},
   "source": [
    "Se tiene la fórmula para el estadístico $D^2$ test de Chi cuadrado:\n",
    "\n",
    "$$\n",
    "    D^2 = \\sum_{s=1}^k \\frac{ (Y_s - n p_s )^2}{n p_s} \\\\\n",
    "    Y_s :\\text{Frecuencia observada}, \\quad n p_s: \\text{ Frecuencia esperada }, \\quad k: \\text{clases,buckets,etc}\n",
    "$$\n",
    "\n",
    "y nos plantean tomar un nivel de significación de 1% es decir, $\\alpha = 0.01$\n",
    "\n",
    "Si el estadístico es mayor tiene un valor-P asociado mayor a $\\alpha$ o de forma equivalente, que sea $D^2 < D_{\\alpha}$, la ddistribución será aceptada.\n",
    "$$\n",
    "$$\n",
    "\n",
    "No es necesario implementar el cálculo del estadístico, el mismo ya esta implementado en la libreria scipy.stats\n",
    "\n",
    "Para poder realizar el test, definimos la frecuencia de cada resultado que esperaríamos obtener en la distribución contra la que estamos evaluando."
   ]
  },
  {
   "cell_type": "code",
   "execution_count": null,
   "metadata": {},
   "outputs": [],
   "source": [
    "f_teo = np.array([1,2,3,4,5,6,5,4,3,2,1])/36 * len(tiradas)"
   ]
  },
  {
   "cell_type": "markdown",
   "metadata": {},
   "source": [
    "Las frecuencias observadas son las que usamos para construir el histograma anterior."
   ]
  },
  {
   "cell_type": "code",
   "execution_count": 44,
   "metadata": {},
   "outputs": [
    {
     "data": {
      "text/plain": [
       "array([ 2825.,  5476.,  8527., 11010., 13946., 16574., 13899., 11044.,\n",
       "        8336.,  5577.,  2786.])"
      ]
     },
     "execution_count": 44,
     "metadata": {},
     "output_type": "execute_result"
    }
   ],
   "source": [
    "f_obs = hist[0]"
   ]
  },
  {
   "cell_type": "markdown",
   "metadata": {},
   "source": [
    "Utilizando las frecuencias observadas y esperadas ejecutamos el test de Chi cuadrado, que obtiene el estadístico y su correspondiente valor P."
   ]
  },
  {
   "cell_type": "code",
   "execution_count": 45,
   "metadata": {},
   "outputs": [],
   "source": [
    "chi_test = chisquare(f_obs,f_teo)"
   ]
  },
  {
   "cell_type": "code",
   "execution_count": 46,
   "metadata": {},
   "outputs": [
    {
     "name": "stdout",
     "output_type": "stream",
     "text": [
      "El test de Chi^2 devolvio un estadístico D = 8.633684000000038, correspondiente al valor p = 0.56718476021141\n"
     ]
    }
   ],
   "source": [
    "msj = \"El test de Chi^2 devolvio un estadístico D = {0}, correspondiente al valor p = {1}\"\\\n",
    "    .format(chi_test[0] , chi_test[1])\n",
    "print(msj)"
   ]
  },
  {
   "cell_type": "markdown",
   "metadata": {},
   "source": [
    "El test de $\\chi^2$ nos devolvió un estadístico $D^2$ cuyo valor P asociado es mayor que el nivel de significación elegido ($\\alpha = 0.01$). Por lo tanto, la distribución es aceptada. Para cambiar el resultado del test de hipótesis deberíamos tomar cualquier nivel de significación mayor al valor P obtenido ($\\alpha\\in(pValue,1)$)\n",
    "$$\n",
    "$$"
   ]
  },
  {
   "cell_type": "markdown",
   "metadata": {},
   "source": [
    "# Ejercicio 7"
   ]
  },
  {
   "cell_type": "markdown",
   "metadata": {},
   "source": [
    "Recordamos que en el ejercicio 4, mediante el método de aceptación y rechazo, implementamos un generador de números aleatorios con distribución normal con media $\\mu = 25$ y desvío estándar $\\sigma = 2$. Utilizamos nuevamente ese generador para obtener 100.000 muestras.\n",
    "$$\n",
    "$$"
   ]
  },
  {
   "cell_type": "code",
   "execution_count": 47,
   "metadata": {},
   "outputs": [],
   "source": [
    "def aceptacionRechazo(n):\n",
    "    gen = np.zeros(n)\n",
    "    for i in range(0,n):\n",
    "        accept = False\n",
    "        while not accept:\n",
    "            U1 = np.random.rand()*6*sigma + mu - 3*sigma\n",
    "            U2 = np.random.rand()*maximo\n",
    "            if (U2 < normal.pdf(U1)):\n",
    "                gen[i] = U1\n",
    "                accept = True\n",
    "    return gen"
   ]
  },
  {
   "cell_type": "code",
   "execution_count": 48,
   "metadata": {},
   "outputs": [],
   "source": [
    "N = int(1e5)\n",
    "generados = aceptacionRechazo(N)\n",
    "ordenados = np.sort(generados)"
   ]
  },
  {
   "cell_type": "markdown",
   "metadata": {},
   "source": [
    "A las muestras obtenidas, les aplicamos el Test de Kolmogorov-Smirnov contra la distribución teórica.\n",
    "Calculamos q tal que:\n",
    "<br><br>\n",
    "$$\n",
    "    q = \\max_x |\\hat{F}_X(x) - F_X(x)|\n",
    "$$"
   ]
  },
  {
   "cell_type": "code",
   "execution_count": 49,
   "metadata": {},
   "outputs": [],
   "source": [
    "q = 0\n",
    "i = 0\n",
    "while i < N:\n",
    "    x = ordenados[i]\n",
    "    if abs(i/N - normal.cdf(x)) > q:\n",
    "        max_x = x\n",
    "        q = abs(i/N - normal.cdf(x))\n",
    "    i+=1"
   ]
  },
  {
   "cell_type": "code",
   "execution_count": 50,
   "metadata": {},
   "outputs": [
    {
     "name": "stdout",
     "output_type": "stream",
     "text": [
      "q es: 0.0021294227035866253\n",
      "El max es: 25.342317744518283\n"
     ]
    }
   ],
   "source": [
    "print('q es: '+ str(q))"
   ]
  },
  {
   "cell_type": "markdown",
   "metadata": {},
   "source": [
    "Nos proponen un nivel de significación $\\alpha = 0.01$. Aceptaremos la distribución si:\n",
    "<br><br>\n",
    "$$\n",
    "    q \\gt \\sqrt{\\frac{-1}{2N}\\ln{\\frac{\\alpha}{2}}} = \\text{umbral}\n",
    "$$"
   ]
  },
  {
   "cell_type": "code",
   "execution_count": 51,
   "metadata": {},
   "outputs": [
    {
     "name": "stdout",
     "output_type": "stream",
     "text": [
      "El umbral es: 0.005146997846583986\n"
     ]
    }
   ],
   "source": [
    "alpha = 0.01\n",
    "umbral = np.sqrt(-1/(2*N) * np.log(alpha/2))\n",
    "print('El umbral es: ' +str(umbral))"
   ]
  },
  {
   "cell_type": "markdown",
   "metadata": {},
   "source": [
    "Finalmente"
   ]
  },
  {
   "cell_type": "code",
   "execution_count": 52,
   "metadata": {},
   "outputs": [
    {
     "name": "stdout",
     "output_type": "stream",
     "text": [
      "La distribución es rechazada por el test\n"
     ]
    }
   ],
   "source": [
    "if q > umbral:\n",
    "    print(\"La distribución es aceptada por el test\")\n",
    "else:\n",
    "    print(\"La distribución es rechazada por el test\")"
   ]
  },
  {
   "cell_type": "markdown",
   "metadata": {},
   "source": [
    "# Ejercicio 8"
   ]
  },
  {
   "cell_type": "markdown",
   "metadata": {},
   "source": [
    "Vamos a simular el movimiento de una particula considerando las indicaciones dadas, para ello comenzamos definiendo la clase que va a dibujar este evento."
   ]
  },
  {
   "cell_type": "code",
   "execution_count": 53,
   "metadata": {},
   "outputs": [],
   "source": [
    "import matplotlib.pyplot as plt\n",
    "import os\n",
    "from matplotlib.animation import FuncAnimation, PillowWriter"
   ]
  },
  {
   "cell_type": "code",
   "execution_count": 54,
   "metadata": {},
   "outputs": [],
   "source": [
    "class DrawSimulation():\n",
    "    '''Clase para dibujar el movimiento de la Particula'''\n",
    "    def __init__(self, puntosr, puntosg, ancho, alto, t, duracion, largo_pared):\n",
    "        self.fig, self.ax = plt.subplots()\n",
    "\n",
    "        self.ln1 = self.ax.scatter([], [], c='g', s=1)\n",
    "        self.ln2 = self.ax.scatter([], [], c='r', s=1)\n",
    "        self.square, = self.ax.plot([], [])\n",
    "        self.wall, = self.ax.plot([], [])\n",
    "\n",
    "        plt.axis('off')\n",
    "        self.alto = alto\n",
    "        self.largo_pared = largo_pared\n",
    "        self.ancho = ancho\n",
    "        self.t = t\n",
    "        self.puntosr = puntosr\n",
    "        self.puntosg = puntosg\n",
    "        self.duracion = duracion #en segundos\n",
    "        self.fps = min(max(1, t//duracion), 30)\n",
    "\n",
    "    def draw(self,fname=\"ejemplo.gif\"):\n",
    "        ani = FuncAnimation(self.fig, self.update, [i for i in range(self.t)], init_func=self.init)\n",
    "        writer = PillowWriter(fps = self.fps)\n",
    "        ani.save(fname, writer = writer)\n",
    "        #os.system(f\"start {fname}s\")\n",
    "        os.system(f\"eog {fname}&\")\n",
    "\n",
    "    def init(self):\n",
    "        self.ax.set_xlim(-self.ancho-1,self.ancho+1)\n",
    "        self.ax.set_ylim(-self.alto-1, self.alto+1)\n",
    "\n",
    "    def update(self, i):\n",
    "        self.square.set_data([-self.ancho,self.ancho,self.ancho,-self.ancho,-self.ancho], [-self.alto,-self.alto,self.alto,self.alto,-self.alto])\n",
    "        self.wall.set_data([0,0],[-self.alto, self.largo_pared])\n",
    "        if len(self.puntosr)>i:\n",
    "            self.ln1.set_offsets(self.puntosr[i])\n",
    "        if len(self.puntosg)>i:\n",
    "            self.ln2.set_offsets(self.puntosg[i])"
   ]
  },
  {
   "cell_type": "markdown",
   "metadata": {},
   "source": [
    "Ahora pasamos a definir el script que simulara el evento de como se mueve la particula"
   ]
  },
  {
   "cell_type": "code",
   "execution_count": 56,
   "metadata": {},
   "outputs": [],
   "source": [
    "cantidad_molec = 1\n",
    "alto = 10\n",
    "ancho = 5\n",
    "n_steps=1000\n",
    "wall_length=-alto\n",
    "vel = .1\n",
    "\n",
    "def moleculas(ancho,alto,n_steps,vel):\n",
    "    l = []\n",
    "    particulas = np.array([[0,0]])\n",
    "    for i in range(n_steps):\n",
    "        r = np.random.randint(0, 2, (1, 1))\n",
    "        move = np.concatenate([r,abs(r-1)],-1)*(np.random.randint(0,2,(1,1))*2-1)*vel\n",
    "        particulas = particulas+move\n",
    "        l.append(particulas.reshape(1,-1,2))\n",
    "    return l\n",
    "\n",
    "l1 = moleculas(ancho,alto,n_steps,vel)\n",
    "\n",
    "l1 = np.concatenate(l1,axis=0)\n",
    "#DrawSimulation(l1, [], ancho, alto, n_steps, 4, -alto).draw(\"one-particle.gif\") Ver gif en Anexos"
   ]
  },
  {
   "cell_type": "markdown",
   "metadata": {},
   "source": [
    "# Ejercicio 9"
   ]
  },
  {
   "cell_type": "markdown",
   "metadata": {},
   "source": [
    "En este caso la cantidad de particulas aumenta, para simular este evento utilizaremos un codigo muy similar al anterior haciendo difenrencia en el numero de particulas."
   ]
  },
  {
   "cell_type": "markdown",
   "metadata": {},
   "source": [
    "Comenzamos con la simulacion sin pared:"
   ]
  },
  {
   "cell_type": "code",
   "execution_count": 57,
   "metadata": {},
   "outputs": [
    {
     "data": {
      "image/png": "[encoded data removed]",
      "text/plain": [
       "<Figure size 720x720 with 1 Axes>"
      ]
     },
     "metadata": {
      "needs_background": "light"
     },
     "output_type": "display_data"
    }
   ],
   "source": [
    "import numpy as np\n",
    "cantidad_molec = 10000\n",
    "alto = 10 #Aclaracion: El alto y ancho van de -x a x. Ej: -10 a 10.\n",
    "ancho = 5\n",
    "n_steps=4000\n",
    "wall_length=-alto\n",
    "vel = .1\n",
    "\n",
    "def moleculas(ancho,alto,cantidad_molec,n_steps,wall_length,vel,der=True):\n",
    "    # Vamos a limtar las posiciones iniciales a posiciones con 1 solo digito decimal.\n",
    "    # Con esto podemos agregar una performance significativa en el calculo de colisiones en las paredes.\n",
    "    stats = []\n",
    "    l = []\n",
    "    aa = np.random.random((cantidad_molec, 1)) * (ancho - .21) +.1\n",
    "    bb = np.random.random((cantidad_molec, 1)) * (2 * (alto-.2)) - (alto-.2)\n",
    "    particulas = [aa*(2*der-1), bb]\n",
    "    particulas = np.concatenate(particulas,-1)\n",
    "    #veo que no haya nada sobre la pared\n",
    "    assert(((particulas[:,0]<0.1)*(particulas[:,0]>-0.1)*(particulas[:,1]<=wall_length)).sum()==0)\n",
    "    for i in range(n_steps):\n",
    "        r = np.random.randint(0, 2, (cantidad_molec, 1))\n",
    "        move = np.concatenate([r,abs(r-1)],-1)*(np.random.randint(0,2,(cantidad_molec,1))*2-1)*vel\n",
    "\n",
    "        #Predigo el siguiente movimiento\n",
    "        tmp = particulas+move\n",
    "        #Veo si estoy sobre la pared\n",
    "        colision_recipiente = (tmp[:,0]<0.1)*(tmp[:,0]>-0.1)*(tmp[:,1]<=wall_length)\n",
    "        #ancho\n",
    "        colision_recipiente = colision_recipiente | (tmp[:, 0] >= ancho) | (tmp[:, 0] <= -ancho)\n",
    "        #alto\n",
    "        colision_recipiente = colision_recipiente | (tmp[:, 1] >= alto) | (tmp[:, 1] <= -alto)\n",
    "        tmp = particulas + move * (1-colision_recipiente)[:, None]\n",
    "        # CHECK FOR WALL\n",
    "        assert(((tmp[:,0]<0.1)*(tmp[:,0]>-0.1)*(tmp[:,1]<=wall_length)).sum()==0) #Verficamos que nunca una particula este dentro de la pared.\n",
    "        particulas = tmp\n",
    "        #Finalmente esta correcto y actualizamos\n",
    "        stats.append([(particulas[:,0]>0).sum(),(particulas[:,0]<=0).sum()] )\n",
    "        l.append(particulas.reshape(1,-1,2))\n",
    "    return l,stats\n",
    "\n",
    "#Simulo las particulas de la derecha\n",
    "l1,s1 = moleculas(ancho,alto,cantidad_molec,n_steps,wall_length,vel)\n",
    "#Simulo las particulas de la izquierda\n",
    "l2,s2 = moleculas(ancho,alto,cantidad_molec,n_steps,wall_length,vel,der=False)\n",
    "\n",
    "a0,b0 = s1[0]\n",
    "xt,y1,y2=[],[],[]\n",
    "\n",
    "for i,(a,b) in enumerate(s1[1:]):\n",
    "    xt.append(i)\n",
    "    y1.append(a)\n",
    "    y2.append(b)\n",
    "    a0 = a\n",
    "    b0 = b\n",
    "\n",
    "import matplotlib.pyplot as plt\n",
    "ax = plt.plot(xt,y1)\n",
    "ax = plt.plot(xt,y2)\n",
    "plt.grid()\n",
    "plt.show()\n",
    "\n",
    "\n",
    "l1 = np.concatenate(l1, axis=0)\n",
    "l2 = np.concatenate(l2, axis=0)\n",
    "#DrawSimulation(l1, [] , ancho, alto, n_steps, 4, wall_length).draw(\"ej8.gif\") Ver gif en Anexos"
   ]
  },
  {
   "cell_type": "markdown",
   "metadata": {},
   "source": [
    "Como se puede ver las moleculas tienden a estar en equilibrio"
   ]
  },
  {
   "cell_type": "markdown",
   "metadata": {},
   "source": [
    "Comenzamos con la simulacion con pared:"
   ]
  },
  {
   "cell_type": "code",
   "execution_count": 58,
   "metadata": {},
   "outputs": [
    {
     "data": {
      "image/png": "[encoded data removed]",
      "text/plain": [
       "<Figure size 720x720 with 1 Axes>"
      ]
     },
     "metadata": {
      "needs_background": "light"
     },
     "output_type": "display_data"
    }
   ],
   "source": [
    "wall_length+=int(alto/2)\n",
    "\n",
    "#Simulo las particulas de la derecha\n",
    "l1,s1 = moleculas(ancho,alto,cantidad_molec,n_steps,wall_length,vel)\n",
    "#Simulo las particulas de la izquierda\n",
    "l2,s2 = moleculas(ancho,alto,cantidad_molec,n_steps,wall_length,vel,der=False)\n",
    "\n",
    "a0,b0 = s1[0]\n",
    "xt,y1,y2=[],[],[]\n",
    "\n",
    "for i,(a,b) in enumerate(s1[1:]):\n",
    "    xt.append(i)\n",
    "    y1.append(a)\n",
    "    y2.append(b)\n",
    "    a0 = a\n",
    "    b0 = b\n",
    "\n",
    "import matplotlib.pyplot as plt\n",
    "ax = plt.plot(xt,y1)\n",
    "ax = plt.plot(xt,y2)\n",
    "plt.grid()\n",
    "plt.show()\n",
    "\n",
    "\n",
    "l1 = np.concatenate(l1, axis=0)\n",
    "l2 = np.concatenate(l2, axis=0) \n",
    "#DrawSimulation(l1, [] , ancho, alto, n_steps, 4, wall_length).draw(\"ej8.gif\") Ver gif en Anexos"
   ]
  },
  {
   "cell_type": "markdown",
   "metadata": {},
   "source": [
    "En esta caso como esta la pared se llega mas lento al equilibrio porque hay menos intercambio."
   ]
  },
  {
   "cell_type": "markdown",
   "metadata": {},
   "source": [
    "# Ejercicio 10"
   ]
  },
  {
   "cell_type": "markdown",
   "metadata": {},
   "source": [
    "Vamos a hacer la simulacion de 100 personas en un recinto de 100x100 con velocidad 1 y movimiento aleatorio"
   ]
  },
  {
   "cell_type": "markdown",
   "metadata": {},
   "source": [
    "En este caso todas las personas se estaran moviendo, ademas una persona infectada no se podra curar."
   ]
  },
  {
   "cell_type": "code",
   "execution_count": 59,
   "metadata": {},
   "outputs": [],
   "source": [
    "poblacion = 100\n",
    "alto = 100\n",
    "ancho = 100\n",
    "porcentaje_contagios = .05\n",
    "n_steps = 4000\n",
    "DIST_CONTAGIO=2\n",
    "vel = 1\n",
    "import numpy as np\n",
    "def inicializar(total,porcentaje_contagios):\n",
    "    m = np.array([ancho-2,alto-2])\n",
    "    b = -np.array([(ancho-2)//2,(alto-2)//2])\n",
    "    enfermos = np.random.random((int(total*porcentaje_contagios),2)) *m+b\n",
    "    sanos = np.random.random((total-int(total * porcentaje_contagios), 2))*m+b\n",
    "    return enfermos,sanos\n",
    "\n",
    "def contagiar(sanos, enfermos):\n",
    "    # Todos con todos eje x\n",
    "    x = (sanos[:,0][:, None] - enfermos[:,0]).reshape(-1)\n",
    "    # Todos con todos eje y\n",
    "    y = (sanos[:,1][:, None] - enfermos[:,1]).reshape(-1)\n",
    "    # Distancia\n",
    "    contagios = (x ** 2 + y ** 2) < DIST_CONTAGIO*DIST_CONTAGIO\n",
    "    #Probailidad en caso de estar cerca\n",
    "    contraerla = np.random.random(sanos.shape[0]*enfermos.shape[0])<=.6\n",
    "    #ESTAS CERCA Y NO TE CUIDASTE\n",
    "    contagios = contagios & contraerla\n",
    "    #Si alguno de las personas te contagio entonces contagiado estas!\n",
    "    return contagios.reshape(-1,enfermos.shape[0]).sum(-1)>0\n",
    "\n",
    "def mover(vec):\n",
    "    cantidad = vec.shape[0]\n",
    "    r = np.random.randint(0, 2, (cantidad, 1))\n",
    "    move = np.concatenate([r, abs(r - 1)], -1) * (np.random.randint(0, 2, (cantidad, 1)) * 2 - 1) * vel\n",
    "    # Predigo el siguiente movimiento\n",
    "    tmp = vec + move\n",
    "    # ancho\n",
    "    colision_recipiente = (tmp[:, 0] >= ancho//2) | (tmp[:, 0] <= -ancho//2)\n",
    "    # alto\n",
    "    colision_recipiente = colision_recipiente | (tmp[:, 1] >= alto//2) | (tmp[:, 1] <= -alto//2)\n",
    "    tmp = vec + move * (1 - colision_recipiente)[:, None]\n",
    "    return tmp\n",
    "\n",
    "import matplotlib.pyplot as plt\n",
    "def evolucion_infectados(t,sanos,enfermos,fname):\n",
    "    fig, ax = plt.subplots()\n",
    "    ax.plot(t, sanos, c='g')\n",
    "    ax.plot(t, enfermos, c='r')\n",
    "    ax.legend(['Sanos', 'Enfermos'])\n",
    "    ax.set_title(\"Evolución de infectados\")\n",
    "    ax.set_xlabel(\"Tiempo\")\n",
    "    ax.set_ylabel(\"Cantidad De Personas\")\n",
    "    plt.savefig(\"{}.png\".format(fname))\n",
    "\n",
    "\n",
    "#CASO TODOS SE MUEVEN\n",
    "enfermos,sanos = inicializar(poblacion, porcentaje_contagios)\n",
    "l1,l2 = [],[]\n",
    "i = 0\n",
    "l1.append(sanos.copy())\n",
    "l2.append(enfermos.copy())\n",
    "evo =[[],[],[]]\n",
    "while i<n_steps:\n",
    "    i+=1\n",
    "    #Calcular contagio\n",
    "    if sanos.shape[0]!=0:\n",
    "        idx = contagiar(sanos,enfermos)\n",
    "        enfermos = np.concatenate([enfermos,sanos[idx]],axis=0)\n",
    "        sanos = sanos[~idx]\n",
    "    l1.append(sanos.copy())\n",
    "    l2.append(enfermos.copy())\n",
    "    evo[0].append(i)\n",
    "    evo[1].append(sanos.shape[0])\n",
    "    evo[2].append(enfermos.shape[0])\n",
    "    #Mover a todos\n",
    "    if sanos.shape[0]!=0:\n",
    "        sanos = mover(sanos)\n",
    "    if sanos.shape[0] != 0:\n",
    "        enfermos = mover(enfermos)\n",
    "\n",
    "\n",
    "#DrawSimulation(l1[:300], l2[:300], ancho//2, alto//2, 300, 4, -alto//2).draw(\"covidA1.gif\")\n",
    "#evolucion_infectados(evo[0],evo[1],evo[2],\"evolucionA1\") #Ver gif en Anexos"
   ]
  },
  {
   "cell_type": "markdown",
   "metadata": {},
   "source": [
    "En este caso solo se podran mover las personas que esten sanas. Redefinimos las funciones que requieren un cambio, las otras las reutilizaremos del item previo."
   ]
  },
  {
   "cell_type": "code",
   "execution_count": 60,
   "metadata": {},
   "outputs": [],
   "source": [
    "poblacion = 100\n",
    "alto = 100\n",
    "ancho = 100\n",
    "porcentaje_contagios = .05\n",
    "n_steps = 4000\n",
    "DIST_CONTAGIO=2\n",
    "vel = 1\n",
    "\n",
    "#Sólo se mueven los individuos sanos.\n",
    "#Una vez que un individuo sano se enferma, se mueve entre 10 y 20 turnos más\n",
    "enfermos,sanos = inicializar(poblacion, porcentaje_contagios)\n",
    "l1,l2 = [],[]\n",
    "i = 0\n",
    "l1.append(sanos.copy())\n",
    "l2.append(enfermos.copy())\n",
    "ice = np.zeros(enfermos.shape[0])\n",
    "evo =[[],[],[]]\n",
    "while sanos.shape[0]!=0 and i<n_steps:\n",
    "    ice = np.clip(ice-1,0,20)\n",
    "    i+=1\n",
    "    #Calcular contagio\n",
    "    if sanos.shape[0]!=0:\n",
    "        idx = contagiar(sanos,enfermos)\n",
    "        enfermos = np.concatenate([enfermos,sanos[idx]],axis=0)\n",
    "        ice = np.concatenate([ice,np.random.randint(10, 21, idx.sum())])\n",
    "        sanos = sanos[~idx]\n",
    "    l1.append(sanos.copy())\n",
    "    l2.append(enfermos.copy())\n",
    "\n",
    "    #data graficos\n",
    "    evo[0].append(i)\n",
    "    evo[1].append(sanos.shape[0])\n",
    "    evo[2].append(enfermos.shape[0])\n",
    "    #Mover a todos\n",
    "    if sanos.shape[0] != 0:\n",
    "        sanos = mover(sanos)\n",
    "    if sanos.shape[0] != 0:\n",
    "        tmp_enfermos = mover(enfermos)\n",
    "        enfermos[ice!=0] = tmp_enfermos[ice!=0]\n",
    "\n",
    "\n",
    "#DrawSimulation(l1[:300], l2[:300], ancho//2, alto//2, 300, 4, -alto//2).draw(\"covidA2.gif\") #Ver gif en Anexos\n",
    "#evolucion_infectados(evo[0],evo[1],evo[2],\"evolucionA2\")"
   ]
  },
  {
   "cell_type": "markdown",
   "metadata": {},
   "source": [
    "Finalmente, para el ultimo caso del modelo A, solo se podran mover el 50% de las personas. Redefinmos la parte de codigo necesaria: "
   ]
  },
  {
   "cell_type": "code",
   "execution_count": 61,
   "metadata": {},
   "outputs": [],
   "source": [
    "poblacion = 100\n",
    "alto = 100\n",
    "ancho = 100\n",
    "porcentaje_contagios = .05\n",
    "n_steps = 4000\n",
    "DIST_CONTAGIO=2\n",
    "vel = 1\n",
    "\n",
    "#Sólo se mueven los individuos sanos.\n",
    "#Una vez que un individuo sano se enferma, se mueve entre 10 y 20 turnos más\n",
    "enfermos,sanos = inicializar(poblacion, porcentaje_contagios)\n",
    "\n",
    "ice = np.array([0 for i in range(poblacion//2)] + [1 for i in range(poblacion-poblacion//2)])\n",
    "np.random.shuffle(ice)\n",
    "\n",
    "ice_enfermos = ice[:enfermos.shape[0]]\n",
    "ice_sanos = ice[enfermos.shape[0]:]\n",
    "\n",
    "l1,l2 = [],[]\n",
    "i = 0\n",
    "l1.append(sanos.copy())\n",
    "l2.append(enfermos.copy())\n",
    "\n",
    "evo =[[],[],[]]\n",
    "while i<n_steps:\n",
    "    i+=1\n",
    "    #Calcular contagio\n",
    "    if sanos.shape[0]!=0:\n",
    "        idx = contagiar(sanos,enfermos)\n",
    "        enfermos = np.concatenate([enfermos, sanos[idx]], axis=0)\n",
    "        ice_enfermos = np.concatenate([ice_enfermos, ice_sanos[idx]], axis=0)\n",
    "        sanos = sanos[~idx]\n",
    "        ice_sanos = ice_sanos[~idx]\n",
    "\n",
    "    l1.append(sanos.copy())\n",
    "    l2.append(enfermos.copy())\n",
    "\n",
    "    #data graficos\n",
    "    evo[0].append(i)\n",
    "    evo[1].append(sanos.shape[0])\n",
    "    evo[2].append(enfermos.shape[0])\n",
    "    #Mover a todos\n",
    "    if sanos.shape[0] != 0:\n",
    "        tmp_sanos = mover(sanos)\n",
    "        sanos[ice_sanos != 0] = tmp_sanos[ice_sanos != 0]\n",
    "    if sanos.shape[0] != 0:\n",
    "        tmp_enfermos = mover(enfermos)\n",
    "        enfermos[ice_enfermos != 0] = tmp_enfermos[ice_enfermos != 0]\n",
    "\n",
    "\n",
    "#DrawSimulation(l1[:300], l2[:300], ancho//2, alto//2, 300, 4, -alto//2).draw(\"covidA3.gif\") #Ver gif en Anexos\n",
    "#evolucion_infectados(evo[0],evo[1],evo[2],\"evolucionA3\")"
   ]
  },
  {
   "cell_type": "markdown",
   "metadata": {},
   "source": [
    "## Parte B"
   ]
  },
  {
   "cell_type": "markdown",
   "metadata": {},
   "source": [
    "En este modelo la gente podra curse aleatoriamente, comenzamos con el caso A"
   ]
  },
  {
   "cell_type": "code",
   "execution_count": 62,
   "metadata": {},
   "outputs": [],
   "source": [
    "poblacion = 100\n",
    "alto = 100\n",
    "ancho = 100\n",
    "porcentaje_contagios = .05\n",
    "n_steps = 4000\n",
    "DIST_CONTAGIO=2\n",
    "tiempo_enfermas=20\n",
    "vel = 1\n",
    "\n",
    "#CASO TODOS SE MUEVEN\n",
    "enfermos,sanos = inicializar(poblacion, porcentaje_contagios)\n",
    "l1,l2 = [],[]\n",
    "i = 0\n",
    "l1.append(sanos.copy())\n",
    "l2.append(enfermos.copy())\n",
    "evo =[[],[],[]]\n",
    "dias_enfermo = np.ones(enfermos.shape[0])*tiempo_enfermas\n",
    "while i<n_steps:\n",
    "    dias_enfermo = np.clip(dias_enfermo-1,0,tiempo_enfermas)\n",
    "    i+=1\n",
    "    #Intento Sanar\n",
    "    if enfermos.shape[0]!=0:\n",
    "        idx = (dias_enfermo==0)&(np.random.random(dias_enfermo.shape[0])<=.8)\n",
    "        sanos = np.concatenate([sanos, enfermos[idx]], axis=0)\n",
    "        enfermos = enfermos[~idx]\n",
    "        dias_enfermo = dias_enfermo[~idx]\n",
    "\n",
    "    #Calcular contagio\n",
    "    if sanos.shape[0]!=0 and enfermos.shape[0]!=0:\n",
    "        idx = contagiar(sanos,enfermos)\n",
    "        enfermos = np.concatenate([enfermos,sanos[idx]],axis=0)\n",
    "        dias_enfermo = np.concatenate([dias_enfermo,np.ones(idx.sum()) * tiempo_enfermas],axis=0)\n",
    "        sanos = sanos[~idx]\n",
    "\n",
    "    l1.append(sanos.copy())\n",
    "    l2.append(enfermos.copy())\n",
    "    evo[0].append(i)\n",
    "    evo[1].append(sanos.shape[0])\n",
    "    evo[2].append(enfermos.shape[0])\n",
    "    #Mover a todos\n",
    "    if sanos.shape[0]!=0:\n",
    "        sanos = mover(sanos)\n",
    "    if sanos.shape[0] != 0:\n",
    "        enfermos = mover(enfermos)\n",
    "\n",
    "\n",
    "#DrawSimulation(l1[:300], l2[:300], ancho//2, alto//2, 300, 4, -alto//2).draw(\"covidB1.gif\") #Ver gif en Anexos\n",
    "#evolucion_infectados(evo[0],evo[1],evo[2],\"evolucionB1\")"
   ]
  },
  {
   "cell_type": "markdown",
   "metadata": {},
   "source": [
    "Para el caso B, los que se enferman no se mueven y si te enfermaste despues de 10 turnos no te moves"
   ]
  },
  {
   "cell_type": "code",
   "execution_count": 63,
   "metadata": {},
   "outputs": [],
   "source": [
    "poblacion = 100\n",
    "alto = 100\n",
    "ancho = 100\n",
    "porcentaje_contagios = .05\n",
    "n_steps = 4000\n",
    "DIST_CONTAGIO=2\n",
    "tiempo_enfermas=20\n",
    "vel = 1\n",
    "\n",
    "#Sólo se mueven los individuos sanos.\n",
    "#Una vez que un individuo sano se enferma, se mueve entre 10 y 20 turnos más\n",
    "enfermos,sanos = inicializar(poblacion, porcentaje_contagios)\n",
    "l1,l2 = [],[]\n",
    "i = 0\n",
    "l1.append(sanos.copy())\n",
    "l2.append(enfermos.copy())\n",
    "evo =[[],[],[]]\n",
    "dias_enfermo = np.ones(enfermos.shape[0])*tiempo_enfermas\n",
    "ice = np.zeros(enfermos.shape[0])\n",
    "while i<n_steps:\n",
    "    dias_enfermo = np.clip(dias_enfermo - 1, 0, tiempo_enfermas)\n",
    "    ice = np.clip(ice - 1, 0, 20)\n",
    "    i+=1\n",
    "    #Intento Sanar\n",
    "    if enfermos.shape[0]!=0:\n",
    "        idx = (dias_enfermo==0)&(np.random.random(dias_enfermo.shape[0])<=.8)\n",
    "        sanos = np.concatenate([sanos, enfermos[idx]], axis=0)\n",
    "        enfermos = enfermos[~idx]\n",
    "        dias_enfermo = dias_enfermo[~idx]\n",
    "        ice = ice[~idx]\n",
    "\n",
    "    #Calcular contagio\n",
    "    if sanos.shape[0]!=0 and enfermos.shape[0]!=0:\n",
    "        idx = contagiar(sanos,enfermos)\n",
    "        enfermos = np.concatenate([enfermos,sanos[idx]],axis=0)\n",
    "        dias_enfermo = np.concatenate([dias_enfermo,np.ones(idx.sum()) * tiempo_enfermas],axis=0)\n",
    "        ice = np.concatenate([ice,np.random.randint(10, 21, idx.sum())])\n",
    "        sanos = sanos[~idx]\n",
    "\n",
    "    l1.append(sanos.copy())\n",
    "    l2.append(enfermos.copy())\n",
    "    evo[0].append(i)\n",
    "    evo[1].append(sanos.shape[0])\n",
    "    evo[2].append(enfermos.shape[0])\n",
    "    #Mover a todos\n",
    "    if sanos.shape[0]!=0:\n",
    "        sanos = mover(sanos)\n",
    "    if sanos.shape[0] != 0:\n",
    "        tmp_enfermos = mover(enfermos)\n",
    "        enfermos[ice != 0] = tmp_enfermos[ice != 0]\n",
    "\n",
    "\n",
    "#DrawSimulation(l1[:300], l2[:300], ancho//2, alto//2, 300, 4, -alto//2).draw(\"covidB2.gif\") #Ver gif en Anexos\n",
    "#evolucion_infectados(evo[0],evo[1],evo[2],\"evolucionB2\")"
   ]
  },
  {
   "cell_type": "markdown",
   "metadata": {},
   "source": [
    "En este ultimo caso se movera al azar la mitad de la gente"
   ]
  },
  {
   "cell_type": "code",
   "execution_count": 64,
   "metadata": {},
   "outputs": [],
   "source": [
    "poblacion = 100\n",
    "alto = 100\n",
    "ancho = 100\n",
    "porcentaje_contagios = .05\n",
    "n_steps = 4000\n",
    "DIST_CONTAGIO=2\n",
    "tiempo_enfermas=20\n",
    "vel = 1\n",
    "\n",
    "#Sólo se mueven los individuos sanos.\n",
    "#Una vez que un individuo sano se enferma, se mueve entre 10 y 20 turnos más\n",
    "enfermos,sanos = inicializar(poblacion, porcentaje_contagios)\n",
    "\n",
    "\n",
    "ice = np.array([0 for i in range(poblacion//2)] + [1 for i in range(poblacion-poblacion//2)])\n",
    "np.random.shuffle(ice)\n",
    "\n",
    "ice_enfermos = ice[:enfermos.shape[0]]\n",
    "ice_sanos = ice[enfermos.shape[0]:]\n",
    "\n",
    "\n",
    "l1,l2 = [],[]\n",
    "i = 0\n",
    "l1.append(sanos.copy())\n",
    "l2.append(enfermos.copy())\n",
    "evo =[[],[],[]]\n",
    "dias_enfermo = np.ones(enfermos.shape[0])*tiempo_enfermas\n",
    "ice = np.zeros(enfermos.shape[0])\n",
    "while i<n_steps:\n",
    "    dias_enfermo = np.clip(dias_enfermo - 1, 0, tiempo_enfermas)\n",
    "    i+=1\n",
    "    #Intento Sanar\n",
    "    if enfermos.shape[0]!=0:\n",
    "        idx = (dias_enfermo==0)&(np.random.random(dias_enfermo.shape[0])<=.8)\n",
    "        sanos = np.concatenate([sanos, enfermos[idx]], axis=0)\n",
    "        ice_sanos = np.concatenate([ice_sanos, ice_enfermos[idx]], axis=0)\n",
    "\n",
    "        enfermos = enfermos[~idx]\n",
    "        ice_enfermos = ice_enfermos[~idx]\n",
    "        dias_enfermo = dias_enfermo[~idx]\n",
    "\n",
    "    #Calcular contagio\n",
    "    if sanos.shape[0]!=0 and enfermos.shape[0]!=0:\n",
    "        idx = contagiar(sanos,enfermos)\n",
    "        enfermos = np.concatenate([enfermos, sanos[idx]], axis=0)\n",
    "        ice_enfermos = np.concatenate([ice_enfermos, ice_sanos[idx]], axis=0)\n",
    "        dias_enfermo = np.concatenate([dias_enfermo,np.ones(idx.sum()) * tiempo_enfermas],axis=0)\n",
    "        sanos = sanos[~idx]\n",
    "        ice_sanos = ice_sanos[~idx]\n",
    "\n",
    "    l1.append(sanos.copy())\n",
    "    l2.append(enfermos.copy())\n",
    "    evo[0].append(i)\n",
    "    evo[1].append(sanos.shape[0])\n",
    "    evo[2].append(enfermos.shape[0])\n",
    "    #Mover a todos\n",
    "    if sanos.shape[0] != 0:\n",
    "        tmp_sanos = mover(sanos)\n",
    "        sanos[ice_sanos != 0] = tmp_sanos[ice_sanos != 0]\n",
    "    if sanos.shape[0] != 0:\n",
    "        tmp_enfermos = mover(enfermos)\n",
    "        enfermos[ice_enfermos != 0] = tmp_enfermos[ice_enfermos != 0]\n",
    "\n",
    "        \n",
    "#DrawSimulation(l1[:300], l2[:300], ancho//2, alto//2, 300, 4, -alto//2).draw(\"covidB3.gif\") #Ver gif en Anexos\n",
    "#evolucion_infectados(evo[0],evo[1],evo[2],\"evolucionB3\")"
   ]
  },
  {
   "cell_type": "markdown",
   "metadata": {},
   "source": [
    "A priopi, como vemos que la curva baja tan rapido, podemos ver que para un plano de 100x100, poner 100 personas es poca gente porque el movimiento aleatorio simulado tienda a dejar a las pesonas en el mismo lugar entonces no interactuan entre ellas y la enfermedad se cura muy rapido."
   ]
  }
 ],
 "metadata": {
  "kernelspec": {
   "display_name": "Python 3",
   "language": "python",
   "name": "python3"
  },
  "language_info": {
   "codemirror_mode": {
    "name": "ipython",
    "version": 3
   },
   "file_extension": ".py",
   "mimetype": "text/x-python",
   "name": "python",
   "nbconvert_exporter": "python",
   "pygments_lexer": "ipython3",
   "version": "3.6.4"
  }
 },
 "nbformat": 4,
 "nbformat_minor": 4
}
